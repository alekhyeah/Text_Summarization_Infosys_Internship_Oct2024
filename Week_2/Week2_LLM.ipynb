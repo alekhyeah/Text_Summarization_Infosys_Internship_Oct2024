{
  "nbformat": 4,
  "nbformat_minor": 0,
  "metadata": {
    "colab": {
      "provenance": []
    },
    "kernelspec": {
      "name": "python3",
      "display_name": "Python 3"
    },
    "language_info": {
      "name": "python"
    }
  },
  "cells": [
    {
      "cell_type": "code",
      "execution_count": 18,
      "metadata": {
        "id": "6v0lzZqoLA3Z"
      },
      "outputs": [],
      "source": [
        "from google.colab import userdata\n",
        "import os\n",
        "os.environ[\"GOOGLE_API_KEY\"] = userdata.get('GOOGLE_API_KEY')"
      ]
    },
    {
      "cell_type": "code",
      "source": [
        "!pip install --quiet transformers datasets evaluate rouge-score py7zr"
      ],
      "metadata": {
        "id": "wT8Odh_cu-Gg"
      },
      "execution_count": 19,
      "outputs": []
    },
    {
      "cell_type": "code",
      "source": [
        "import torch\n",
        "from transformers import T5Tokenizer, T5ForConditionalGeneration, BartTokenizer, BartForConditionalGeneration\n",
        "from datasets import load_dataset\n",
        "import evaluate"
      ],
      "metadata": {
        "id": "eI4j2jYLvCk6"
      },
      "execution_count": 20,
      "outputs": []
    },
    {
      "cell_type": "code",
      "source": [
        "# Import necessary modules\n",
        "from langchain_google_genai import ChatGoogleGenerativeAI\n",
        "from langchain_core.prompts import ChatPromptTemplate\n",
        "import evaluate\n",
        "\n",
        "# Load the ROUGE metric\n",
        "rouge = evaluate.load('rouge')\n",
        "\n",
        "# Function to load LLM\n",
        "def load_llm(model=\"gemini-1.5-pro\", max_tokens=100):\n",
        "    if model == \"gemini-1.5-pro\":\n",
        "        llm = ChatGoogleGenerativeAI(\n",
        "            model=\"gemini-1.5-pro\",\n",
        "            temperature=0,\n",
        "            max_tokens=max_tokens,\n",
        "            timeout=None,\n",
        "            max_retries=2)\n",
        "        return llm\n",
        "    elif model == \"gemini-1.5-flash\":\n",
        "        llm = ChatGoogleGenerativeAI(\n",
        "            model=\"gemini-1.5-flash\",\n",
        "            temperature=0,\n",
        "            max_tokens=max_tokens,\n",
        "            timeout=None,\n",
        "            max_retries=2)\n",
        "        return llm\n",
        "    else:\n",
        "        raise ValueError(\"Invalid model name\")\n",
        "\n",
        "# Function to get prompt template\n",
        "def get_prompt_template():\n",
        "    # Define prompt\n",
        "    prompt = ChatPromptTemplate.from_messages(\n",
        "        [\n",
        "            (\n",
        "                \"system\",\n",
        "                \"Write a concise summary of the following in exactly {num_words} words. Do not exceed {num_words} words. Stick to the word count strictly:\\n\\n\",\n",
        "            ),\n",
        "            (\"human\", \"{context}\")\n",
        "        ]\n",
        "    )\n",
        "    return prompt\n",
        "\n",
        "# Function to summarize text\n",
        "def summarize_text(text, num_words=50, model=\"gemini-1.5-pro\"):\n",
        "    # Load LLM\n",
        "    llm = load_llm(model)\n",
        "\n",
        "    # Get Prompt Template\n",
        "    prompt = get_prompt_template()\n",
        "\n",
        "    # Instantiate chain\n",
        "    chain = prompt | llm\n",
        "\n",
        "    # Invoke chain\n",
        "    result = chain.invoke({\n",
        "        \"context\": text,\n",
        "        \"num_words\": num_words\n",
        "    })\n",
        "\n",
        "    # Return result\n",
        "    return result.content\n",
        "\n",
        "# Function to calculate ROUGE score\n",
        "def compute_rouge(predictions, references):\n",
        "    return rouge.compute(predictions=predictions, references=references, use_stemmer=True)\n",
        "\n",
        "# Example text for summarization\n",
        "text = \"\"\"\n",
        "Artificial Intelligence (AI) is revolutionizing multiple industries and transforming the way we live and work.\n",
        "AI technologies, including machine learning, natural language processing, and robotics, are being integrated into applications like healthcare, finance, and transportation.\n",
        "In healthcare, AI is improving diagnostics and treatment, making processes faster and more accurate.\n",
        "In finance, it helps detect fraudulent transactions and manage risks effectively.\n",
        "AI-powered self-driving cars are reshaping transportation by reducing accidents and optimizing traffic flow.\n",
        "Despite its benefits, AI poses ethical challenges, such as privacy concerns and potential job displacement.\n",
        "Governments and organizations are working on policies to address these issues while fostering innovation in AI.\n",
        "The future of AI looks promising, but it requires careful consideration of both its potential and its risks.\n",
        "\"\"\"\n",
        "\n",
        "# Specify the text and number of words\n",
        "summary = summarize_text(text, num_words=50, model=\"gemini-1.5-flash\")\n",
        "\n",
        "# Print original text and summary\n",
        "print(f\"Original Text: {text}\")\n",
        "print(f\"\\nSummary: {summary}\")\n",
        "print(\"=\"*100)\n",
        "\n",
        "# Calculate and print the number of words\n",
        "original_word_count = len(text.split())\n",
        "summary_word_count = len(summary.split())\n",
        "\n",
        "print(f\"\\nNumber of words in the original text: {original_word_count}\")\n",
        "print(f\"Number of words in the summary: {summary_word_count}\")\n",
        "\n",
        "# Calculate and print ROUGE scores\n",
        "rouge_scores = compute_rouge([summary], [text])\n",
        "print(f\"\\nROUGE Scores: {rouge_scores}\")\n"
      ],
      "metadata": {
        "colab": {
          "base_uri": "https://localhost:8080/"
        },
        "id": "xecFHa_NurOa",
        "outputId": "057420da-71be-4d38-c3d4-e967e5ce573f"
      },
      "execution_count": 21,
      "outputs": [
        {
          "output_type": "stream",
          "name": "stdout",
          "text": [
            "Original Text: \n",
            "Artificial Intelligence (AI) is revolutionizing multiple industries and transforming the way we live and work.\n",
            "AI technologies, including machine learning, natural language processing, and robotics, are being integrated into applications like healthcare, finance, and transportation.\n",
            "In healthcare, AI is improving diagnostics and treatment, making processes faster and more accurate.\n",
            "In finance, it helps detect fraudulent transactions and manage risks effectively.\n",
            "AI-powered self-driving cars are reshaping transportation by reducing accidents and optimizing traffic flow.\n",
            "Despite its benefits, AI poses ethical challenges, such as privacy concerns and potential job displacement.\n",
            "Governments and organizations are working on policies to address these issues while fostering innovation in AI.\n",
            "The future of AI looks promising, but it requires careful consideration of both its potential and its risks.\n",
            "\n",
            "\n",
            "Summary: AI rapidly transforms healthcare, finance, and transportation through machine learning and robotics, improving efficiency and accuracy.  However, ethical concerns like privacy and job displacement necessitate careful policy development to harness AI's potential responsibly.\n",
            "\n",
            "====================================================================================================\n",
            "\n",
            "Number of words in the original text: 122\n",
            "Number of words in the summary: 33\n",
            "\n",
            "ROUGE Scores: {'rouge1': 0.3037974683544304, 'rouge2': 0.07692307692307693, 'rougeL': 0.2278481012658228, 'rougeLsum': 0.2784810126582279}\n"
          ]
        }
      ]
    }
  ]
}