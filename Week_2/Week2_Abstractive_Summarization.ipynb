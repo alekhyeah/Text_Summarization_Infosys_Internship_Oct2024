{
  "cells": [
    {
      "cell_type": "markdown",
      "metadata": {
        "id": "SBHLU9PtUMm3"
      },
      "source": [
        "**Google T5 Approach(Text-to-Text Transfer Transformer)**"
      ]
    },
    {
      "cell_type": "code",
      "execution_count": 6,
      "metadata": {
        "id": "MsOEj7CaVfAv",
        "colab": {
          "base_uri": "https://localhost:8080/"
        },
        "outputId": "a5fd9da5-5fe9-4324-a5b6-032c9f44c9f6"
      },
      "outputs": [
        {
          "output_type": "stream",
          "name": "stderr",
          "text": [
            "/usr/local/lib/python3.10/dist-packages/transformers/generation/configuration_utils.py:638: UserWarning: `num_beams` is set to 1. However, `early_stopping` is set to `True` -- this flag is only used in beam-based generation modes. You should set `num_beams>1` or unset `early_stopping`.\n",
            "  warnings.warn(\n"
          ]
        },
        {
          "output_type": "stream",
          "name": "stdout",
          "text": [
            "Original Text:\n",
            "\n",
            "Artificial Intelligence (AI) is revolutionizing multiple industries and transforming the way we live and work.\n",
            "AI technologies, including machine learning, natural language processing, and robotics, are being integrated into applications like healthcare, finance, and transportation.\n",
            "In healthcare, AI is improving diagnostics and treatment, making processes faster and more accurate.\n",
            "In finance, it helps detect fraudulent transactions and manage risks effectively.\n",
            "AI-powered self-driving cars are reshaping transportation by reducing accidents and optimizing traffic flow.\n",
            "Despite its benefits, AI poses ethical challenges, such as privacy concerns and potential job displacement.\n",
            "Governments and organizations are working on policies to address these issues while fostering innovation in AI.\n",
            "The future of AI looks promising, but it requires careful consideration of both its potential and its risks.\n",
            "\n",
            "\n",
            "Generated Summary:\n",
            "artificial intelligence (AI) is revolutionizing multiple industries . robert mcgill: AI is improving diagnostics, treatment, making processes faster . he says it poses ethical challenges, such as privacy concerns and potential job displacement . mcgill: future of AI requires careful consideration of both its potential and its risks .\n",
            "\n",
            "Number of words in the original text: 122\n",
            "Number of words in the summary: 49\n"
          ]
        }
      ],
      "source": [
        "# Install necessary libraries\n",
        "!pip install --quiet transformers datasets torch\n",
        "\n",
        "# Import necessary modules\n",
        "from transformers import T5Tokenizer, T5ForConditionalGeneration\n",
        "\n",
        "# Load pre-trained T5 model and tokenizer\n",
        "model_name = \"t5-base\"\n",
        "model = T5ForConditionalGeneration.from_pretrained(model_name)\n",
        "tokenizer = T5Tokenizer.from_pretrained(model_name)\n",
        "\n",
        "# Sample text for summarization\n",
        "text = \"\"\"\n",
        "Artificial Intelligence (AI) is revolutionizing multiple industries and transforming the way we live and work.\n",
        "AI technologies, including machine learning, natural language processing, and robotics, are being integrated into applications like healthcare, finance, and transportation.\n",
        "In healthcare, AI is improving diagnostics and treatment, making processes faster and more accurate.\n",
        "In finance, it helps detect fraudulent transactions and manage risks effectively.\n",
        "AI-powered self-driving cars are reshaping transportation by reducing accidents and optimizing traffic flow.\n",
        "Despite its benefits, AI poses ethical challenges, such as privacy concerns and potential job displacement.\n",
        "Governments and organizations are working on policies to address these issues while fostering innovation in AI.\n",
        "The future of AI looks promising, but it requires careful consideration of both its potential and its risks.\n",
        "\"\"\"\n",
        "\n",
        "# Prepare the input text for the model\n",
        "input_text = \"summarize: \" + text\n",
        "input_ids = tokenizer.encode(input_text, return_tensors=\"pt\", max_length=512, truncation=True)\n",
        "\n",
        "# Generate summary\n",
        "summary_ids = model.generate(input_ids, max_length=150, early_stopping=True)\n",
        "summary = tokenizer.decode(summary_ids[0], skip_special_tokens=True)\n",
        "\n",
        "# Print original text and summary\n",
        "print(\"Original Text:\")\n",
        "print(text)\n",
        "print(\"\\nGenerated Summary:\")\n",
        "print(summary)\n",
        "\n",
        "# Calculate and print the number of words\n",
        "original_word_count = len(text.split())\n",
        "summary_word_count = len(summary.split())\n",
        "\n",
        "print(f\"\\nNumber of words in the original text: {original_word_count}\")\n",
        "print(f\"Number of words in the summary: {summary_word_count}\")\n"
      ]
    },
    {
      "cell_type": "markdown",
      "metadata": {
        "id": "hRwc_Y-NiqT6"
      },
      "source": [
        "**BART approach**"
      ]
    },
    {
      "cell_type": "code",
      "execution_count": 5,
      "metadata": {
        "id": "n-mwX0BUVpLu",
        "colab": {
          "base_uri": "https://localhost:8080/"
        },
        "outputId": "b7ea7c77-94ac-43bc-c588-50e3fd5c17d1"
      },
      "outputs": [
        {
          "output_type": "stream",
          "name": "stdout",
          "text": [
            "Original Text:\n",
            "\n",
            "Artificial Intelligence (AI) is revolutionizing multiple industries and transforming the way we live and work.\n",
            "AI technologies, including machine learning, natural language processing, and robotics, are being integrated into applications like healthcare, finance, and transportation.\n",
            "In healthcare, AI is improving diagnostics and treatment, making processes faster and more accurate.\n",
            "In finance, it helps detect fraudulent transactions and manage risks effectively.\n",
            "AI-powered self-driving cars are reshaping transportation by reducing accidents and optimizing traffic flow.\n",
            "Despite its benefits, AI poses ethical challenges, such as privacy concerns and potential job displacement.\n",
            "Governments and organizations are working on policies to address these issues while fostering innovation in AI.\n",
            "The future of AI looks promising, but it requires careful consideration of both its potential and its risks.\n",
            "\n",
            "\n",
            "Summary:\n",
            "Artificial Intelligence (AI) is revolutionizing multiple industries and transforming the way we live and work. Despite its benefits, AI poses ethical challenges, such as privacy concerns and potential job displacement.Governments and organizations are working on policies to address these issues while fostering innovation in AI.\n",
            "\n",
            "Number of words in the original text: 122\n",
            "Number of words in the summary: 45\n"
          ]
        }
      ],
      "source": [
        "!pip install --quiet transformers datasets torch\n",
        "\n",
        "from transformers import BartForConditionalGeneration, BartTokenizer\n",
        "\n",
        "# Load pre-trained BART model and tokenizer\n",
        "model_name = \"facebook/bart-large-cnn\"  # we can use bart-base, bart-large, etc.\n",
        "model = BartForConditionalGeneration.from_pretrained(model_name)\n",
        "tokenizer = BartTokenizer.from_pretrained(model_name)\n",
        "\n",
        "# Sample text for summarization\n",
        "text = \"\"\"\n",
        "Artificial Intelligence (AI) is revolutionizing multiple industries and transforming the way we live and work.\n",
        "AI technologies, including machine learning, natural language processing, and robotics, are being integrated into applications like healthcare, finance, and transportation.\n",
        "In healthcare, AI is improving diagnostics and treatment, making processes faster and more accurate.\n",
        "In finance, it helps detect fraudulent transactions and manage risks effectively.\n",
        "AI-powered self-driving cars are reshaping transportation by reducing accidents and optimizing traffic flow.\n",
        "Despite its benefits, AI poses ethical challenges, such as privacy concerns and potential job displacement.\n",
        "Governments and organizations are working on policies to address these issues while fostering innovation in AI.\n",
        "The future of AI looks promising, but it requires careful consideration of both its potential and its risks.\n",
        "\"\"\"\n",
        "\n",
        "# Prepare the input text for the model\n",
        "input_ids = tokenizer.encode(text, return_tensors=\"pt\", max_length=512, truncation=True)\n",
        "\n",
        "# Generate summary\n",
        "summary_ids = model.generate(input_ids, max_length=150, early_stopping=True)\n",
        "summary = tokenizer.decode(summary_ids[0], skip_special_tokens=True)\n",
        "\n",
        "# Print original text and summary\n",
        "print(\"Original Text:\")\n",
        "print(text)\n",
        "print(\"\\nSummary:\")\n",
        "print(summary)\n",
        "\n",
        "# Calculate and print the number of words\n",
        "original_word_count = len(text.split())\n",
        "summary_word_count = len(summary.split())\n",
        "\n",
        "print(f\"\\nNumber of words in the original text: {original_word_count}\")\n",
        "print(f\"Number of words in the summary: {summary_word_count}\")\n"
      ]
    }
  ],
  "metadata": {
    "colab": {
      "provenance": []
    },
    "kernelspec": {
      "display_name": "Python 3",
      "name": "python3"
    },
    "language_info": {
      "name": "python"
    }
  },
  "nbformat": 4,
  "nbformat_minor": 0
}