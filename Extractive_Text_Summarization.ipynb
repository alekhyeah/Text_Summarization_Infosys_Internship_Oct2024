{
  "nbformat": 4,
  "nbformat_minor": 0,
  "metadata": {
    "colab": {
      "provenance": []
    },
    "kernelspec": {
      "name": "python3",
      "display_name": "Python 3"
    },
    "language_info": {
      "name": "python"
    }
  },
  "cells": [
    {
      "cell_type": "code",
      "source": [
        "# Download the 'punkt' dataset\n",
        "nltk.download('punkt')\n",
        "nltk.download('stopwords') # Download the stopwords dataset\n"
      ],
      "metadata": {
        "colab": {
          "base_uri": "https://localhost:8080/"
        },
        "id": "ktnvD0qIgIBQ",
        "outputId": "d4714626-2567-4773-f177-dd999a917a1d"
      },
      "execution_count": null,
      "outputs": [
        {
          "output_type": "stream",
          "name": "stderr",
          "text": [
            "[nltk_data] Downloading package punkt to /root/nltk_data...\n",
            "[nltk_data]   Package punkt is already up-to-date!\n",
            "[nltk_data] Downloading package stopwords to /root/nltk_data...\n",
            "[nltk_data]   Package stopwords is already up-to-date!\n"
          ]
        },
        {
          "output_type": "execute_result",
          "data": {
            "text/plain": [
              "True"
            ]
          },
          "metadata": {},
          "execution_count": 16
        }
      ]
    },
    {
      "cell_type": "code",
      "source": [
        "import nltk\n",
        "\n",
        "import pandas as pd\n",
        "import numpy as np\n",
        "from nltk.tokenize import word_tokenize, sent_tokenize\n",
        "from nltk.corpus import stopwords\n",
        "\n",
        "def solve(text):\n",
        "    # Get the stopwords in English\n",
        "    stopwords1 = set(stopwords.words(\"english\"))\n",
        "\n",
        "\n",
        "    words = word_tokenize(text)\n",
        "\n",
        "\n",
        "    freqTable = {}\n",
        "    for word in words:\n",
        "        word = word.lower()\n",
        "        if word in stopwords1:\n",
        "            continue\n",
        "        if word in freqTable:\n",
        "            freqTable[word] += 1\n",
        "        else:\n",
        "            freqTable[word] = 1\n",
        "\n",
        "\n",
        "    sentences = sent_tokenize(text)\n",
        "\n",
        "\n",
        "    sentenceValue = {}\n",
        "    for sentence in sentences:\n",
        "        for word, freq in freqTable.items():\n",
        "            if word in sentence.lower():\n",
        "                if sentence in sentenceValue:\n",
        "                    sentenceValue[sentence] += freq\n",
        "                else:\n",
        "                    sentenceValue[sentence] = freq\n",
        "\n",
        "\n",
        "    sumValues = sum(sentenceValue.values())\n",
        "    average = int(sumValues / len(sentenceValue))\n",
        "\n",
        "\n",
        "    summary = ''\n",
        "    for sentence in sentences:\n",
        "        if sentence in sentenceValue and sentenceValue[sentence] > (1.2 * average):\n",
        "            summary += sentence + \" \"\n",
        "\n",
        "    return summary\n",
        "\n",
        "\n"
      ],
      "metadata": {
        "id": "xGkynlhogV4x"
      },
      "execution_count": null,
      "outputs": []
    },
    {
      "cell_type": "code",
      "source": [
        "# Example usage\n",
        "text = '''India is a southward extension of the Asian continent. The trans-Indian Ocean routes connect the countries of Europe in the West and the countries of East Asia. No other country has as long a coastline on the Indian Ocean as India has. India’s contacts with the World have continued through the ages.'''\n",
        "summary = solve(text)\n",
        "print(summary)"
      ],
      "metadata": {
        "colab": {
          "base_uri": "https://localhost:8080/"
        },
        "id": "QmgVckK_iE1i",
        "outputId": "ce0d3329-6998-45b1-a7fe-8a0e96c05f1a"
      },
      "execution_count": null,
      "outputs": [
        {
          "output_type": "stream",
          "name": "stdout",
          "text": [
            "The trans-Indian Ocean routes connect the countries of Europe in the West and the countries of East Asia. \n"
          ]
        }
      ]
    },
    {
      "cell_type": "code",
      "source": [
        "!pip install sumy"
      ],
      "metadata": {
        "colab": {
          "base_uri": "https://localhost:8080/"
        },
        "collapsed": true,
        "id": "N_EAPuc5kIAO",
        "outputId": "d5e91da2-7cec-460f-f0f4-b4797f7f0678"
      },
      "execution_count": null,
      "outputs": [
        {
          "output_type": "stream",
          "name": "stdout",
          "text": [
            "Requirement already satisfied: sumy in /usr/local/lib/python3.10/dist-packages (0.11.0)\n",
            "Requirement already satisfied: docopt<0.7,>=0.6.1 in /usr/local/lib/python3.10/dist-packages (from sumy) (0.6.2)\n",
            "Requirement already satisfied: breadability>=0.1.20 in /usr/local/lib/python3.10/dist-packages (from sumy) (0.1.20)\n",
            "Requirement already satisfied: requests>=2.7.0 in /usr/local/lib/python3.10/dist-packages (from sumy) (2.32.3)\n",
            "Requirement already satisfied: pycountry>=18.2.23 in /usr/local/lib/python3.10/dist-packages (from sumy) (24.6.1)\n",
            "Requirement already satisfied: nltk>=3.0.2 in /usr/local/lib/python3.10/dist-packages (from sumy) (3.8.1)\n",
            "Requirement already satisfied: chardet in /usr/local/lib/python3.10/dist-packages (from breadability>=0.1.20->sumy) (5.2.0)\n",
            "Requirement already satisfied: lxml>=2.0 in /usr/local/lib/python3.10/dist-packages (from breadability>=0.1.20->sumy) (4.9.4)\n",
            "Requirement already satisfied: click in /usr/local/lib/python3.10/dist-packages (from nltk>=3.0.2->sumy) (8.1.7)\n",
            "Requirement already satisfied: joblib in /usr/local/lib/python3.10/dist-packages (from nltk>=3.0.2->sumy) (1.4.2)\n",
            "Requirement already satisfied: regex>=2021.8.3 in /usr/local/lib/python3.10/dist-packages (from nltk>=3.0.2->sumy) (2024.9.11)\n",
            "Requirement already satisfied: tqdm in /usr/local/lib/python3.10/dist-packages (from nltk>=3.0.2->sumy) (4.66.5)\n",
            "Requirement already satisfied: charset-normalizer<4,>=2 in /usr/local/lib/python3.10/dist-packages (from requests>=2.7.0->sumy) (3.3.2)\n",
            "Requirement already satisfied: idna<4,>=2.5 in /usr/local/lib/python3.10/dist-packages (from requests>=2.7.0->sumy) (3.10)\n",
            "Requirement already satisfied: urllib3<3,>=1.21.1 in /usr/local/lib/python3.10/dist-packages (from requests>=2.7.0->sumy) (2.2.3)\n",
            "Requirement already satisfied: certifi>=2017.4.17 in /usr/local/lib/python3.10/dist-packages (from requests>=2.7.0->sumy) (2024.8.30)\n"
          ]
        }
      ]
    },
    {
      "cell_type": "code",
      "source": [
        "#sumy\n",
        "\n",
        "\n",
        "from sumy.parsers.plaintext import PlaintextParser\n",
        "from sumy.nlp.tokenizers import Tokenizer\n",
        "\n",
        "\n",
        "parser = PlaintextParser.from_string(text, Tokenizer(\"english\"))\n",
        "\n",
        "from sumy.summarizers.text_rank import TextRankSummarizer\n",
        "\n",
        "\n",
        "summarizer = TextRankSummarizer()\n",
        "summary = summarizer(parser.document, 2)\n",
        "\n",
        "text_summary = \"\"\n",
        "for sentence in summary:\n",
        "  text_summary += str(sentence)\n",
        "\n",
        "print(text_summary)"
      ],
      "metadata": {
        "colab": {
          "base_uri": "https://localhost:8080/"
        },
        "id": "57rtfrAXkMF6",
        "outputId": "7cf0cb8d-3f21-4ba0-bc71-686440e25bbb"
      },
      "execution_count": null,
      "outputs": [
        {
          "output_type": "stream",
          "name": "stdout",
          "text": [
            "The trans-Indian Ocean routes connect the countries of Europe in the West and the countries of East Asia.No other country has as long a coastline on the Indian Ocean as India has.\n"
          ]
        }
      ]
    },
    {
      "cell_type": "code",
      "source": [
        "#lex Rank\n",
        "from sumy.parsers.plaintext import PlaintextParser\n",
        "from sumy.nlp.tokenizers import Tokenizer\n",
        "from sumy.summarizers.lex_rank import LexRankSummarizer\n",
        "\n",
        "def sumy_method(text):\n",
        "  parser = PlaintextParser.from_string(text, Tokenizer(\"english\"))\n",
        "  summarizer = LexRankSummarizer()\n",
        "  #Summarize the document with 2 sentences\n",
        "  summary = summarizer(parser.document, 2)\n",
        "  dp = []\n",
        "  for i in summary:\n",
        "    lp = str(i)\n",
        "    dp.append(lp)\n",
        "  final_sentence = ' '.join(dp)\n",
        "\n",
        "  return final_sentence"
      ],
      "metadata": {
        "id": "aQ2LGd66o-fl"
      },
      "execution_count": null,
      "outputs": []
    },
    {
      "cell_type": "code",
      "source": [
        "# Example usage\n",
        "text = \"India is a southward extension of the Asian continent. The trans-Indian Ocean routes connect the countries of Europe in the West and the countries of East Asia. No other country has as long a coastline on the Indian Ocean as India has. India’s contacts with the World have continued through the ages.\"\n",
        "summary = sumy_method(text)  # Call the function to get the summary\n",
        "print(summary)  # Print the summary"
      ],
      "metadata": {
        "colab": {
          "base_uri": "https://localhost:8080/"
        },
        "id": "LknVkqT3pSkL",
        "outputId": "ed849899-ada5-4bc1-afc4-41240dec4912"
      },
      "execution_count": null,
      "outputs": [
        {
          "output_type": "stream",
          "name": "stdout",
          "text": [
            "India is a southward extension of the Asian continent. The trans-Indian Ocean routes connect the countries of Europe in the West and the countries of East Asia.\n"
          ]
        }
      ]
    }
  ]
}