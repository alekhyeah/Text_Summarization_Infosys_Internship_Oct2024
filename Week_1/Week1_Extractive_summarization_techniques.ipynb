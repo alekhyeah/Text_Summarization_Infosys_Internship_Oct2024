{
  "nbformat": 4,
  "nbformat_minor": 0,
  "metadata": {
    "colab": {
      "provenance": [],
      "gpuType": "T4"
    },
    "kernelspec": {
      "name": "python3",
      "display_name": "Python 3"
    },
    "language_info": {
      "name": "python"
    },
    "accelerator": "GPU"
  },
  "cells": [
    {
      "cell_type": "code",
      "source": [
        "# Install the necessary library\n",
        "!pip install --quiet sumy\n",
        "from sumy.parsers.plaintext import PlaintextParser\n",
        "from sumy.nlp.tokenizers import Tokenizer\n",
        "from sumy.summarizers.luhn import LuhnSummarizer\n",
        "from sumy.summarizers.lsa import LsaSummarizer\n",
        "from sumy.summarizers.lex_rank import LexRankSummarizer\n",
        "import nltk\n",
        "from nltk.corpus import stopwords\n",
        "from nltk.tokenize import word_tokenize, sent_tokenize\n",
        "import string\n",
        "\n",
        "nltk.download('punkt')\n",
        "nltk.download('stopwords')\n",
        "nltk.download('punkt_tab')\n"
      ],
      "metadata": {
        "id": "g-xgNIoFVuDZ",
        "colab": {
          "base_uri": "https://localhost:8080/"
        },
        "outputId": "c8ec2d3f-eea5-4728-fe8e-f7e275ba0bb0"
      },
      "execution_count": 9,
      "outputs": [
        {
          "output_type": "stream",
          "name": "stderr",
          "text": [
            "[nltk_data] Downloading package punkt to /root/nltk_data...\n",
            "[nltk_data]   Package punkt is already up-to-date!\n",
            "[nltk_data] Downloading package stopwords to /root/nltk_data...\n",
            "[nltk_data]   Package stopwords is already up-to-date!\n",
            "[nltk_data] Downloading package punkt_tab to /root/nltk_data...\n",
            "[nltk_data]   Package punkt_tab is already up-to-date!\n"
          ]
        },
        {
          "output_type": "execute_result",
          "data": {
            "text/plain": [
              "True"
            ]
          },
          "metadata": {},
          "execution_count": 9
        }
      ]
    },
    {
      "cell_type": "markdown",
      "source": [
        "**FREQUENCY BASED METHOD**\n"
      ],
      "metadata": {
        "id": "7beI-4Hia0QX"
      }
    },
    {
      "cell_type": "code",
      "source": [
        "\n",
        "# Function to summarize text using word frequency\n",
        "def frequency_based_summarization(text):\n",
        "    words = word_tokenize(text.lower())\n",
        "    sentences = sent_tokenize(text)\n",
        "    stop_words = set(stopwords.words(\"english\"))\n",
        "    words = [word for word in words if word not in stop_words and word not in string.punctuation]\n",
        "\n",
        "    word_freq = {}\n",
        "    for word in words:\n",
        "        if word in word_freq:\n",
        "            word_freq[word] += 1\n",
        "        else:\n",
        "            word_freq[word] = 1\n",
        "\n",
        "    max_freq = max(word_freq.values())\n",
        "\n",
        "    for word in word_freq:\n",
        "        word_freq[word] = word_freq[word] / max_freq\n",
        "\n",
        "   # Score sentences based on word frequencies\n",
        "    sentence_scores = {}\n",
        "    for sentence in sentences:\n",
        "        sentence_words = word_tokenize(sentence.lower())\n",
        "        for word in sentence_words:\n",
        "            if word in word_freq:\n",
        "                if sentence not in sentence_scores:\n",
        "                    sentence_scores[sentence] = word_freq[word]\n",
        "                else:\n",
        "                    sentence_scores[sentence] += word_freq[word]\n",
        "\n",
        "# Select top sentences for summary\n",
        "    sorted_sentences = sorted(sentence_scores, key=sentence_scores.get, reverse=True)\n",
        "    summary_sentences = sorted_sentences[:3]\n",
        "\n",
        "    summary = ' '.join(summary_sentences)\n",
        "    return summary\n",
        "\n",
        "# Example text\n",
        "text = \"\"\"\n",
        "Artificial Intelligence (AI) is revolutionizing multiple industries and transforming the way we live and work.\n",
        "AI technologies, including machine learning, natural language processing, and robotics, are being integrated into applications like healthcare, finance, and transportation.\n",
        "In healthcare, AI is improving diagnostics and treatment, making processes faster and more accurate.\n",
        "In finance, it helps detect fraudulent transactions and manage risks effectively.\n",
        "AI-powered self-driving cars are reshaping transportation by reducing accidents and optimizing traffic flow.\n",
        "Despite its benefits, AI poses ethical challenges, such as privacy concerns and potential job displacement.\n",
        "Governments and organizations are working on policies to address these issues while fostering innovation in AI.\n",
        "The future of AI looks promising, but it requires careful consideration of both its potential and its risks.\n",
        "\"\"\"\n",
        "\n",
        "summary = frequency_based_summarization(text)\n",
        "print(\"Summary:\")\n",
        "print(summary)\n"
      ],
      "metadata": {
        "id": "mQ1X53XnTD9G",
        "colab": {
          "base_uri": "https://localhost:8080/"
        },
        "outputId": "c233e776-ef71-4941-d84e-b727b8fe06cd"
      },
      "execution_count": 10,
      "outputs": [
        {
          "output_type": "stream",
          "name": "stdout",
          "text": [
            "Summary:\n",
            "AI technologies, including machine learning, natural language processing, and robotics, are being integrated into applications like healthcare, finance, and transportation. Despite its benefits, AI poses ethical challenges, such as privacy concerns and potential job displacement. The future of AI looks promising, but it requires careful consideration of both its potential and its risks.\n"
          ]
        }
      ]
    },
    {
      "cell_type": "markdown",
      "source": [
        "**LUHN METHOD**"
      ],
      "metadata": {
        "id": "QPuBbVcZVodu"
      }
    },
    {
      "cell_type": "code",
      "source": [
        "\n",
        "# Function to summarize text using Luhn method\n",
        "def luhn_method(text, sentences_count=2):\n",
        "    parser = PlaintextParser.from_string(text, Tokenizer(\"english\"))\n",
        "    summarizer_luhn = LuhnSummarizer()\n",
        "\n",
        "    summary = summarizer_luhn(parser.document, sentences_count)\n",
        "    summary_sentences = [str(sentence) for sentence in summary]\n",
        "\n",
        "    return ' '.join(summary_sentences)\n",
        "\n",
        "text = \"\"\"\n",
        "Artificial Intelligence (AI) is revolutionizing multiple industries and transforming the way we live and work.\n",
        "AI technologies,including machine learning, natural language processing, and robotics, are being integrated into applications like healthcare, finance, and transportation.\n",
        "In healthcare, AI is improving diagnostics and treatment, making processes faster and more accurate.\n",
        "In finance, it helps detect fraudulent transactions and manage risks effectively.\n",
        "AI-powered self-driving cars are reshaping transportation by reducing accidents and optimizing traffic flow.\n",
        "Despite its benefits, AI poses ethical challenges, such as privacy concerns and potential job displacement.\n",
        "Governments and organizations are working on policies to address these issues while fostering innovation in AI.\n",
        "The future of AI looks promising, but it requires careful consideration of both its potential and its risks.\n",
        "\"\"\"\n",
        "print(\"Summary:\")\n",
        "print(luhn_method(text))\n"
      ],
      "metadata": {
        "id": "LNftBw6iY3rT",
        "colab": {
          "base_uri": "https://localhost:8080/"
        },
        "outputId": "f5af884a-c441-456a-e823-da6065f81ed6"
      },
      "execution_count": 14,
      "outputs": [
        {
          "output_type": "stream",
          "name": "stdout",
          "text": [
            "Summary:\n",
            "AI technologies,including machine learning, natural language processing, and robotics, are being integrated into applications like healthcare, finance, and transportation. The future of AI looks promising, but it requires careful consideration of both its potential and its risks.\n"
          ]
        }
      ]
    },
    {
      "cell_type": "markdown",
      "source": [
        "**LATENT SEMANTIC ANALYSIS(LSA)**"
      ],
      "metadata": {
        "id": "QvEcGYbVhX-F"
      }
    },
    {
      "cell_type": "code",
      "source": [
        "# Function for LSA-based summarization\n",
        "def lsa_summarization(text, sentence_count=2):\n",
        "    parser = PlaintextParser.from_string(text, Tokenizer(\"english\"))\n",
        "\n",
        "    summarizer = LsaSummarizer()\n",
        "\n",
        "    summary = summarizer(parser.document, sentence_count)\n",
        "\n",
        "    summary_sentences = [str(sentence) for sentence in summary]\n",
        "\n",
        "    final_summary = \" \".join(summary_sentences)\n",
        "\n",
        "    return final_summary\n",
        "\n",
        "text = \"\"\"\n",
        "Artificial Intelligence (AI) is revolutionizing multiple industries and transforming the way we live and work.\n",
        "AI technologies,including machine learning, natural language processing, and robotics, are being integrated into applications like healthcare, finance, and transportation.\n",
        "In healthcare, AI is improving diagnostics and treatment, making processes faster and more accurate.\n",
        "In finance, it helps detect fraudulent transactions and manage risks effectively.\n",
        "AI-powered self-driving cars are reshaping transportation by reducing accidents and optimizing traffic flow.\n",
        "Despite its benefits, AI poses ethical challenges, such as privacy concerns and potential job displacement.\n",
        "Governments and organizations are working on policies to address these issues while fostering innovation in AI.\n",
        "The future of AI looks promising, but it requires careful consideration of both its potential and its risks.\n",
        "\"\"\"\n",
        "\n",
        "summary = lsa_summarization(text, sentence_count=3)\n",
        "print(\"Summary:\")\n",
        "print(summary)\n"
      ],
      "metadata": {
        "id": "ChnUdpYHhQqc",
        "colab": {
          "base_uri": "https://localhost:8080/"
        },
        "outputId": "63487d80-364b-4151-a754-5164ff0ed31b"
      },
      "execution_count": 12,
      "outputs": [
        {
          "output_type": "stream",
          "name": "stdout",
          "text": [
            "Summary:\n",
            "AI-powered self-driving cars are reshaping transportation by reducing accidents and optimizing traffic flow. Despite its benefits, AI poses ethical challenges, such as privacy concerns and potential job displacement. Governments and organizations are working on policies to address these issues while fostering innovation in AI.\n"
          ]
        }
      ]
    },
    {
      "cell_type": "markdown",
      "source": [
        "**LEXRANK**"
      ],
      "metadata": {
        "id": "grYI_hsRUplM"
      }
    },
    {
      "cell_type": "code",
      "source": [
        "# Function for LexRank-based summarization\n",
        "def lexrank_summarization(text, sentence_count=2):\n",
        "    parser = PlaintextParser.from_string(text, Tokenizer(\"english\"))\n",
        "\n",
        "    summarizer = LexRankSummarizer()\n",
        "\n",
        "    summary = summarizer(parser.document, sentence_count)\n",
        "\n",
        "    summary_sentences = [str(sentence) for sentence in summary]\n",
        "\n",
        "    final_summary = \" \".join(summary_sentences)\n",
        "\n",
        "    return final_summary\n",
        "\n",
        "text = \"\"\"\n",
        "Artificial Intelligence (AI) is revolutionizing multiple industries and transforming the way we live and work.\n",
        "AI technologies, including machine learning, natural language processing, and robotics, are being integrated into applications like healthcare, finance, and transportation.\n",
        "In healthcare, AI is improving diagnostics and treatment, making processes faster and more accurate.\n",
        "In finance, it helps detect fraudulent transactions and manage risks effectively.\n",
        "AI-powered self-driving cars are reshaping transportation by reducing accidents and optimizing traffic flow.\n",
        "Despite its benefits, AI poses ethical challenges, such as privacy concerns and potential job displacement.\n",
        "Governments and organizations are working on policies to address these issues while fostering innovation in AI.\n",
        "The future of AI looks promising, but it requires careful consideration of both its potential and its risks.\n",
        "\"\"\"\n",
        "\n",
        "summary = lexrank_summarization(text, sentence_count=3)\n",
        "print(\"Summary:\")\n",
        "print(summary)\n"
      ],
      "metadata": {
        "id": "Lt2ZmOvfUx1H",
        "colab": {
          "base_uri": "https://localhost:8080/"
        },
        "outputId": "b4b4abaf-43e3-4d52-80f0-3ca2b5ea2527"
      },
      "execution_count": 13,
      "outputs": [
        {
          "output_type": "stream",
          "name": "stdout",
          "text": [
            "Summary:\n",
            "Artificial Intelligence (AI) is revolutionizing multiple industries and transforming the way we live and work. AI technologies, including machine learning, natural language processing, and robotics, are being integrated into applications like healthcare, finance, and transportation. In healthcare, AI is improving diagnostics and treatment, making processes faster and more accurate.\n"
          ]
        }
      ]
    }
  ]
}