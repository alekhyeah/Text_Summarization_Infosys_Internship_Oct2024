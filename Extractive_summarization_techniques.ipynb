{
  "nbformat": 4,
  "nbformat_minor": 0,
  "metadata": {
    "colab": {
      "provenance": []
    },
    "kernelspec": {
      "name": "python3",
      "display_name": "Python 3"
    },
    "language_info": {
      "name": "python"
    }
  },
  "cells": [
    {
      "cell_type": "markdown",
      "source": [
        "FREQUENCY BASED TEXT SUMMARIZATION"
      ],
      "metadata": {
        "id": "1erhwafx5fNB"
      }
    },
    {
      "cell_type": "code",
      "source": [
        "#Importing the libraries\n",
        "import pandas as pd\n",
        "import numpy as np\n",
        "from nltk.tokenize import word_tokenize, sent_tokenize\n",
        "from nltk.corpus import stopwords\n",
        "import nltk"
      ],
      "metadata": {
        "id": "4L8VFqLO5jpR"
      },
      "execution_count": 1,
      "outputs": []
    },
    {
      "cell_type": "code",
      "source": [
        "#Generating a list of stopwords in English\n",
        "nltk.download('stopwords')\n",
        "stopwords1 = set(stopwords.words(\"english\"))"
      ],
      "metadata": {
        "colab": {
          "base_uri": "https://localhost:8080/"
        },
        "id": "YXgiQZi25rDN",
        "outputId": "3f48b399-d6d5-4ef5-d996-b1cee4d4531d"
      },
      "execution_count": 2,
      "outputs": [
        {
          "output_type": "stream",
          "name": "stderr",
          "text": [
            "[nltk_data] Downloading package stopwords to /root/nltk_data...\n",
            "[nltk_data]   Unzipping corpora/stopwords.zip.\n"
          ]
        }
      ]
    },
    {
      "cell_type": "code",
      "source": [
        "#Tokenizing the Words\n",
        "nltk.download('punkt')\n",
        "text = '''Climate change has been a critical issue in Australia since the beginning of the 21st century. Australia is becoming hotter and more prone to extreme heat,\n",
        "        bushfires, droughts, floods, and longer fire seasons because of climate change. Climate issues include wildfires, heatwaves, cyclones, rising sea levels,\n",
        "        and erosion.\n",
        "        Since the beginning of the 20th century, Australia has experienced an increase of over 1.4 °C in average annual temperatures, with warming occurring at twice\n",
        "        the rate over the past 50 years compared with the previous 50 years. Recent climate events such as extremely high temperatures and widespread drought have focused\n",
        "        government and public attention on the effects of climate change in Australia. Rainfall in southwestern Australia has decreased by 10–20% since the 1970s, while\n",
        "        southeastern Australia has also experienced a moderate decline since the 1990s. Rainfall is expected to become heavier and more infrequent, as well as more common in\n",
        "        summer rather than in winter. Australia's annual average temperatures are projected to increase 0.4–2.0 °C above 1990 levels by the year 2030, and 1–6 °C by 2070. Average\n",
        "        precipitation in the southwest and southeast Australia is projected to decline during this time, while regions such as the northwest may experience increases in rainfall.\n",
        "        Climate change is affecting the continent's environment and ecosystems. Australia is vulnerable to the effects of global warming projected for the next 50 to 100 years\n",
        "        because of its extensive arid and semi-arid areas, and already warm climate, high annual rainfall variability. The continent's high fire risk increases this susceptibility\n",
        "        to changes in temperature and climate. Meanwhile, Australia's coastlines will experience erosion and inundation from an estimated 8–88 cm increase in global sea level.\n",
        "        Australia's unique ecosystems such as the Great Barrier Reef and many animal species are also at risk.\n",
        "        Climate change also has diverse implications for Australia's economy, agriculture and public health.Projected impacts include more severe floods, droughts, and cyclones.\n",
        "        Furthermore, Australia's population is highly concentrated in coastal areas at risk from rising sea levels, and existing pressures on water supply will be exacerbated.\n",
        "        The exposure of Indigenous Australians to climate change impacts is exacerbated by existing socio-economic disadvantages which are linked to colonial and post-colonial\n",
        "        marginalisation.The communities most affected by climate changes are those in the North where Aboriginal and Torres Strait Islander people make up 30% of the\n",
        "        population.Aboriginal and Torres Strait Islander communities located in the coastal north are the most disadvantaged due to social and economic issues and their reliance on\n",
        "        traditional land for food, culture, and health. This has raised the question for many community members in these areas, \"Should we stay or move away?\"\n",
        "        Australia is also a contributor to climate change, with its greenhouse gas emissions per capita above the world average. The country is highly reliant on coal and other\n",
        "        fossil fuels, although renewable energy coverage is increasing.National mitigation efforts include a commitment to achieving net zero emissions by 2050 under the\n",
        "        Paris Agreement, although Australia has repeatedly ranked poorly in the Climate Change Performance Index and other international rankings for its climate targets and\n",
        "        implementation. Adaptation can be performed at national and local levels and was identified as a priority for Australia in the 2007 Garnaut Review.\n",
        "        Climate change has been a divisive or politicised issue in Australian politics since the 2000s, contributing to successive governments implementing and repealing mitigation\n",
        "        policies such as carbon pricing. Some Australian media outlets have promoted climate misinformation. The issue has sparked protests in support of climate change policies,\n",
        "         including some of the largest demonstrations in Australia's history.'''\n",
        "words = word_tokenize(text)"
      ],
      "metadata": {
        "colab": {
          "base_uri": "https://localhost:8080/"
        },
        "id": "BLqRe6X153_0",
        "outputId": "e25deba9-9205-4373-e6f7-405b94921fa3"
      },
      "execution_count": 3,
      "outputs": [
        {
          "output_type": "stream",
          "name": "stderr",
          "text": [
            "[nltk_data] Downloading package punkt to /root/nltk_data...\n",
            "[nltk_data]   Unzipping tokenizers/punkt.zip.\n"
          ]
        }
      ]
    },
    {
      "cell_type": "code",
      "source": [
        "#Creating the frequency table\n",
        "freqTable = {}\n",
        "for word in words:\n",
        "  word = word.lower()\n",
        "  if word in stopwords1:\n",
        "    continue\n",
        "  if word in freqTable:\n",
        "    freqTable[word] += 1\n",
        "  else:\n",
        "    freqTable[word] = 1"
      ],
      "metadata": {
        "id": "roZlebBf6CBt"
      },
      "execution_count": 4,
      "outputs": []
    },
    {
      "cell_type": "code",
      "source": [
        "#Tokenizing the Sentences\n",
        "sentences = sent_tokenize(text)\n",
        "sentenceValue = {}"
      ],
      "metadata": {
        "id": "x_7o_Cpg7BPA"
      },
      "execution_count": 5,
      "outputs": []
    },
    {
      "cell_type": "code",
      "source": [
        "#Assigning Scores\n",
        "for sentence in sentences:\n",
        "  for word, freq in freqTable.items():\n",
        "    if word in sentence.lower():\n",
        "      if sentence in sentenceValue:\n",
        "        sentenceValue[sentence] += freq\n",
        "      else:\n",
        "        sentenceValue[sentence] = freq"
      ],
      "metadata": {
        "id": "Nqe1BHvd7HQ0"
      },
      "execution_count": 6,
      "outputs": []
    },
    {
      "cell_type": "code",
      "source": [
        "#Calculating the average score\n",
        "sumValues = 0\n",
        "for sentence in sentenceValue:\n",
        "  sumValues += sentenceValue[sentence]\n",
        "average = int(sumValues / len(sentenceValue))"
      ],
      "metadata": {
        "id": "-IVvPcbi7HNQ"
      },
      "execution_count": 7,
      "outputs": []
    },
    {
      "cell_type": "code",
      "source": [
        "#Generating Summary\n",
        "summary = ''\n",
        "for sentence in sentences:\n",
        "  if (sentence in sentenceValue) and (sentenceValue[sentence] > (1.2 * average)):\n",
        "    summary += \"\" + sentence\n",
        "\n",
        "print(summary)\n"
      ],
      "metadata": {
        "colab": {
          "base_uri": "https://localhost:8080/"
        },
        "id": "_dVmNjGW7HLO",
        "outputId": "d4dae745-446d-45e6-ddee-69b943d22975"
      },
      "execution_count": 8,
      "outputs": [
        {
          "output_type": "stream",
          "name": "stdout",
          "text": [
            "Since the beginning of the 20th century, Australia has experienced an increase of over 1.4 °C in average annual temperatures, with warming occurring at twice\n",
            "        the rate over the past 50 years compared with the previous 50 years.Australia is vulnerable to the effects of global warming projected for the next 50 to 100 years\n",
            "        because of its extensive arid and semi-arid areas, and already warm climate, high annual rainfall variability.Climate change also has diverse implications for Australia's economy, agriculture and public health.Projected impacts include more severe floods, droughts, and cyclones.The exposure of Indigenous Australians to climate change impacts is exacerbated by existing socio-economic disadvantages which are linked to colonial and post-colonial\n",
            "        marginalisation.The communities most affected by climate changes are those in the North where Aboriginal and Torres Strait Islander people make up 30% of the\n",
            "        population.Aboriginal and Torres Strait Islander communities located in the coastal north are the most disadvantaged due to social and economic issues and their reliance on\n",
            "        traditional land for food, culture, and health.The country is highly reliant on coal and other\n",
            "        fossil fuels, although renewable energy coverage is increasing.National mitigation efforts include a commitment to achieving net zero emissions by 2050 under the\n",
            "        Paris Agreement, although Australia has repeatedly ranked poorly in the Climate Change Performance Index and other international rankings for its climate targets and\n",
            "        implementation.Climate change has been a divisive or politicised issue in Australian politics since the 2000s, contributing to successive governments implementing and repealing mitigation\n",
            "        policies such as carbon pricing.\n"
          ]
        }
      ]
    },
    {
      "cell_type": "markdown",
      "source": [
        "TEXT_RANK TEXT SUMMARIZATION"
      ],
      "metadata": {
        "id": "hQ-ByFkl7rSr"
      }
    },
    {
      "cell_type": "code",
      "source": [
        "#Installing the packages\n",
        "!pip install sumy\n",
        "!pip install nltk"
      ],
      "metadata": {
        "colab": {
          "base_uri": "https://localhost:8080/"
        },
        "id": "---4yVrK7HJI",
        "outputId": "e9b75e28-6052-407f-bcb8-5d97d3af6e92"
      },
      "execution_count": 9,
      "outputs": [
        {
          "output_type": "stream",
          "name": "stdout",
          "text": [
            "Collecting sumy\n",
            "  Downloading sumy-0.11.0-py2.py3-none-any.whl.metadata (7.5 kB)\n",
            "Collecting docopt<0.7,>=0.6.1 (from sumy)\n",
            "  Downloading docopt-0.6.2.tar.gz (25 kB)\n",
            "  Preparing metadata (setup.py) ... \u001b[?25l\u001b[?25hdone\n",
            "Collecting breadability>=0.1.20 (from sumy)\n",
            "  Downloading breadability-0.1.20.tar.gz (32 kB)\n",
            "  Preparing metadata (setup.py) ... \u001b[?25l\u001b[?25hdone\n",
            "Requirement already satisfied: requests>=2.7.0 in /usr/local/lib/python3.10/dist-packages (from sumy) (2.32.3)\n",
            "Collecting pycountry>=18.2.23 (from sumy)\n",
            "  Downloading pycountry-24.6.1-py3-none-any.whl.metadata (12 kB)\n",
            "Requirement already satisfied: nltk>=3.0.2 in /usr/local/lib/python3.10/dist-packages (from sumy) (3.8.1)\n",
            "Requirement already satisfied: chardet in /usr/local/lib/python3.10/dist-packages (from breadability>=0.1.20->sumy) (5.2.0)\n",
            "Requirement already satisfied: lxml>=2.0 in /usr/local/lib/python3.10/dist-packages (from breadability>=0.1.20->sumy) (4.9.4)\n",
            "Requirement already satisfied: click in /usr/local/lib/python3.10/dist-packages (from nltk>=3.0.2->sumy) (8.1.7)\n",
            "Requirement already satisfied: joblib in /usr/local/lib/python3.10/dist-packages (from nltk>=3.0.2->sumy) (1.4.2)\n",
            "Requirement already satisfied: regex>=2021.8.3 in /usr/local/lib/python3.10/dist-packages (from nltk>=3.0.2->sumy) (2024.9.11)\n",
            "Requirement already satisfied: tqdm in /usr/local/lib/python3.10/dist-packages (from nltk>=3.0.2->sumy) (4.66.5)\n",
            "Requirement already satisfied: charset-normalizer<4,>=2 in /usr/local/lib/python3.10/dist-packages (from requests>=2.7.0->sumy) (3.4.0)\n",
            "Requirement already satisfied: idna<4,>=2.5 in /usr/local/lib/python3.10/dist-packages (from requests>=2.7.0->sumy) (3.10)\n",
            "Requirement already satisfied: urllib3<3,>=1.21.1 in /usr/local/lib/python3.10/dist-packages (from requests>=2.7.0->sumy) (2.2.3)\n",
            "Requirement already satisfied: certifi>=2017.4.17 in /usr/local/lib/python3.10/dist-packages (from requests>=2.7.0->sumy) (2024.8.30)\n",
            "Downloading sumy-0.11.0-py2.py3-none-any.whl (97 kB)\n",
            "\u001b[2K   \u001b[90m━━━━━━━━━━━━━━━━━━━━━━━━━━━━━━━━━━━━━━━━\u001b[0m \u001b[32m97.3/97.3 kB\u001b[0m \u001b[31m1.6 MB/s\u001b[0m eta \u001b[36m0:00:00\u001b[0m\n",
            "\u001b[?25hDownloading pycountry-24.6.1-py3-none-any.whl (6.3 MB)\n",
            "\u001b[2K   \u001b[90m━━━━━━━━━━━━━━━━━━━━━━━━━━━━━━━━━━━━━━━━\u001b[0m \u001b[32m6.3/6.3 MB\u001b[0m \u001b[31m55.3 MB/s\u001b[0m eta \u001b[36m0:00:00\u001b[0m\n",
            "\u001b[?25hBuilding wheels for collected packages: breadability, docopt\n",
            "  Building wheel for breadability (setup.py) ... \u001b[?25l\u001b[?25hdone\n",
            "  Created wheel for breadability: filename=breadability-0.1.20-py2.py3-none-any.whl size=21692 sha256=400f381cf3239fb65a03d00fe6b8d942215929f915781647c7a91c3a035384ad\n",
            "  Stored in directory: /root/.cache/pip/wheels/64/22/90/b84fcc30e16598db20a0d41340616dbf9b1e82bbcc627b0b33\n",
            "  Building wheel for docopt (setup.py) ... \u001b[?25l\u001b[?25hdone\n",
            "  Created wheel for docopt: filename=docopt-0.6.2-py2.py3-none-any.whl size=13706 sha256=d6519710145552d93299293c2cb315bb007f6591f46432ab221011cf5d93ee84\n",
            "  Stored in directory: /root/.cache/pip/wheels/fc/ab/d4/5da2067ac95b36618c629a5f93f809425700506f72c9732fac\n",
            "Successfully built breadability docopt\n",
            "Installing collected packages: docopt, pycountry, breadability, sumy\n",
            "Successfully installed breadability-0.1.20 docopt-0.6.2 pycountry-24.6.1 sumy-0.11.0\n",
            "Requirement already satisfied: nltk in /usr/local/lib/python3.10/dist-packages (3.8.1)\n",
            "Requirement already satisfied: click in /usr/local/lib/python3.10/dist-packages (from nltk) (8.1.7)\n",
            "Requirement already satisfied: joblib in /usr/local/lib/python3.10/dist-packages (from nltk) (1.4.2)\n",
            "Requirement already satisfied: regex>=2021.8.3 in /usr/local/lib/python3.10/dist-packages (from nltk) (2024.9.11)\n",
            "Requirement already satisfied: tqdm in /usr/local/lib/python3.10/dist-packages (from nltk) (4.66.5)\n"
          ]
        }
      ]
    },
    {
      "cell_type": "code",
      "source": [
        "#Importing the libraries\n",
        "from sumy.parsers.plaintext import PlaintextParser\n",
        "from sumy.nlp.tokenizers import Tokenizer\n",
        "from sumy.summarizers.text_rank import TextRankSummarizer"
      ],
      "metadata": {
        "id": "3GU7wmpU7zPO"
      },
      "execution_count": 10,
      "outputs": []
    },
    {
      "cell_type": "code",
      "source": [
        "text = '''Climate change has been a critical issue in Australia since the beginning of the 21st century. Australia is becoming hotter and more prone to extreme heat,\n",
        "        bushfires, droughts, floods, and longer fire seasons because of climate change. Climate issues include wildfires, heatwaves, cyclones, rising sea levels,\n",
        "        and erosion.\n",
        "        Since the beginning of the 20th century, Australia has experienced an increase of over 1.4 °C in average annual temperatures, with warming occurring at twice\n",
        "        the rate over the past 50 years compared with the previous 50 years. Recent climate events such as extremely high temperatures and widespread drought have focused\n",
        "        government and public attention on the effects of climate change in Australia. Rainfall in southwestern Australia has decreased by 10–20% since the 1970s, while\n",
        "        southeastern Australia has also experienced a moderate decline since the 1990s. Rainfall is expected to become heavier and more infrequent, as well as more common in\n",
        "        summer rather than in winter. Australia's annual average temperatures are projected to increase 0.4–2.0 °C above 1990 levels by the year 2030, and 1–6 °C by 2070. Average\n",
        "        precipitation in the southwest and southeast Australia is projected to decline during this time, while regions such as the northwest may experience increases in rainfall.\n",
        "        Climate change is affecting the continent's environment and ecosystems. Australia is vulnerable to the effects of global warming projected for the next 50 to 100 years\n",
        "        because of its extensive arid and semi-arid areas, and already warm climate, high annual rainfall variability. The continent's high fire risk increases this susceptibility\n",
        "        to changes in temperature and climate. Meanwhile, Australia's coastlines will experience erosion and inundation from an estimated 8–88 cm increase in global sea level.\n",
        "        Australia's unique ecosystems such as the Great Barrier Reef and many animal species are also at risk.\n",
        "        Climate change also has diverse implications for Australia's economy, agriculture and public health.Projected impacts include more severe floods, droughts, and cyclones.\n",
        "        Furthermore, Australia's population is highly concentrated in coastal areas at risk from rising sea levels, and existing pressures on water supply will be exacerbated.\n",
        "        The exposure of Indigenous Australians to climate change impacts is exacerbated by existing socio-economic disadvantages which are linked to colonial and post-colonial\n",
        "        marginalisation.The communities most affected by climate changes are those in the North where Aboriginal and Torres Strait Islander people make up 30% of the\n",
        "        population.Aboriginal and Torres Strait Islander communities located in the coastal north are the most disadvantaged due to social and economic issues and their reliance on\n",
        "        traditional land for food, culture, and health. This has raised the question for many community members in these areas, \"Should we stay or move away?\"\n",
        "        Australia is also a contributor to climate change, with its greenhouse gas emissions per capita above the world average. The country is highly reliant on coal and other\n",
        "        fossil fuels, although renewable energy coverage is increasing.National mitigation efforts include a commitment to achieving net zero emissions by 2050 under the\n",
        "        Paris Agreement, although Australia has repeatedly ranked poorly in the Climate Change Performance Index and other international rankings for its climate targets and\n",
        "        implementation. Adaptation can be performed at national and local levels and was identified as a priority for Australia in the 2007 Garnaut Review.\n",
        "        Climate change has been a divisive or politicised issue in Australian politics since the 2000s, contributing to successive governments implementing and repealing mitigation\n",
        "        policies such as carbon pricing. Some Australian media outlets have promoted climate misinformation. The issue has sparked protests in support of climate change policies,\n",
        "         including some of the largest demonstrations in Australia's history.'''"
      ],
      "metadata": {
        "id": "gz9Snrze8BjU"
      },
      "execution_count": 11,
      "outputs": []
    },
    {
      "cell_type": "code",
      "source": [
        "#Tokenizing the words\n",
        "nltk.download('punkt')"
      ],
      "metadata": {
        "colab": {
          "base_uri": "https://localhost:8080/"
        },
        "id": "UHa_B-tv8H0W",
        "outputId": "d4f83a93-b333-4086-d800-8491c65c7899"
      },
      "execution_count": 12,
      "outputs": [
        {
          "output_type": "stream",
          "name": "stderr",
          "text": [
            "[nltk_data] Downloading package punkt to /root/nltk_data...\n",
            "[nltk_data]   Package punkt is already up-to-date!\n"
          ]
        },
        {
          "output_type": "execute_result",
          "data": {
            "text/plain": [
              "True"
            ]
          },
          "metadata": {},
          "execution_count": 12
        }
      ]
    },
    {
      "cell_type": "code",
      "source": [
        "#Parsing the tokenized words\n",
        "parser = PlaintextParser.from_string(text, Tokenizer(\"english\"))"
      ],
      "metadata": {
        "id": "8DMPibEt8SgV"
      },
      "execution_count": 13,
      "outputs": []
    },
    {
      "cell_type": "code",
      "source": [
        "#Initializing the function\n",
        "summarizer = TextRankSummarizer()"
      ],
      "metadata": {
        "id": "XJC1WCMU8Z4V"
      },
      "execution_count": 14,
      "outputs": []
    },
    {
      "cell_type": "code",
      "source": [
        "#Adjusting the number of sentences\n",
        "summary = summarizer(parser.document, 2)"
      ],
      "metadata": {
        "id": "1lAku7Nb8d8T"
      },
      "execution_count": 15,
      "outputs": []
    },
    {
      "cell_type": "code",
      "source": [
        "# Constructing the summary output\n",
        "text_summary = \"\"\n",
        "for sentence in summary:\n",
        "    text_summary += str(sentence)\n"
      ],
      "metadata": {
        "id": "p0MJCGS087Qa"
      },
      "execution_count": 16,
      "outputs": []
    },
    {
      "cell_type": "code",
      "source": [
        "# Printing the summarized text\n",
        "print(text_summary)"
      ],
      "metadata": {
        "colab": {
          "base_uri": "https://localhost:8080/"
        },
        "id": "sbdsDgll9A_a",
        "outputId": "a76b822b-4245-4bc6-f6b8-6a5ea8b00e45"
      },
      "execution_count": 17,
      "outputs": [
        {
          "output_type": "stream",
          "name": "stdout",
          "text": [
            "The exposure of Indigenous Australians to climate change impacts is exacerbated by existing socio-economic disadvantages which are linked to colonial and post-colonial marginalisation.The communities most affected by climate changes are those in the North where Aboriginal and Torres Strait Islander people make up 30% of the population.Aboriginal and Torres Strait Islander communities located in the coastal north are the most disadvantaged due to social and economic issues and their reliance on traditional land for food, culture, and health.The country is highly reliant on coal and other fossil fuels, although renewable energy coverage is increasing.National mitigation efforts include a commitment to achieving net zero emissions by 2050 under the Paris Agreement, although Australia has repeatedly ranked poorly in the Climate Change Performance Index and other international rankings for its climate targets and implementation.\n"
          ]
        }
      ]
    },
    {
      "cell_type": "markdown",
      "source": [
        "LEX_RANK TEXT SUMMARIZATION"
      ],
      "metadata": {
        "id": "v9o2GqpJ9Ff6"
      }
    },
    {
      "cell_type": "code",
      "source": [
        "# Importing necessary libraries\n",
        "from sumy.parsers.plaintext import PlaintextParser\n",
        "from sumy.nlp.tokenizers import Tokenizer\n",
        "from sumy.summarizers.lex_rank import LexRankSummarizer\n",
        "import nltk\n"
      ],
      "metadata": {
        "id": "coeZnrKj9Kew"
      },
      "execution_count": 18,
      "outputs": []
    },
    {
      "cell_type": "code",
      "source": [
        "# Sentence tokenization\n",
        "nltk.download('punkt')"
      ],
      "metadata": {
        "colab": {
          "base_uri": "https://localhost:8080/"
        },
        "id": "lmWaed3i9XsK",
        "outputId": "0f8c3b39-968c-4e3e-ab56-d3a8644afab7"
      },
      "execution_count": 19,
      "outputs": [
        {
          "output_type": "stream",
          "name": "stderr",
          "text": [
            "[nltk_data] Downloading package punkt to /root/nltk_data...\n",
            "[nltk_data]   Package punkt is already up-to-date!\n"
          ]
        },
        {
          "output_type": "execute_result",
          "data": {
            "text/plain": [
              "True"
            ]
          },
          "metadata": {},
          "execution_count": 19
        }
      ]
    },
    {
      "cell_type": "code",
      "source": [
        "# Defining the LexRank function\n",
        "def sumy_method(text):\n",
        "    # Parsing the input text\n",
        "    parser = PlaintextParser.from_string(text, Tokenizer(\"english\"))\n",
        "\n",
        "    # Initializing the LexRank summarizer\n",
        "    summarizer = LexRankSummarizer()\n",
        "\n",
        "    # Summarizing the document\n",
        "    summary = summarizer(parser.document, 2)\n",
        "\n",
        "    # Collecting the summary sentences into a list\n",
        "    dp = []\n",
        "    for sentence in summary:\n",
        "        dp.append(str(sentence))\n",
        "\n",
        "    # Joining the summarized sentences into a single string\n",
        "    final_sentence = ' '.join(dp)\n",
        "\n",
        "    return final_sentence"
      ],
      "metadata": {
        "id": "0nDJ_H2j9ecw"
      },
      "execution_count": 20,
      "outputs": []
    },
    {
      "cell_type": "code",
      "source": [
        "text = '''Climate change has been a critical issue in Australia since the beginning of the 21st century. Australia is becoming hotter and more prone to extreme heat,\n",
        "        bushfires, droughts, floods, and longer fire seasons because of climate change. Climate issues include wildfires, heatwaves, cyclones, rising sea levels,\n",
        "        and erosion.\n",
        "        Since the beginning of the 20th century, Australia has experienced an increase of over 1.4 °C in average annual temperatures, with warming occurring at twice\n",
        "        the rate over the past 50 years compared with the previous 50 years. Recent climate events such as extremely high temperatures and widespread drought have focused\n",
        "        government and public attention on the effects of climate change in Australia. Rainfall in southwestern Australia has decreased by 10–20% since the 1970s, while\n",
        "        southeastern Australia has also experienced a moderate decline since the 1990s. Rainfall is expected to become heavier and more infrequent, as well as more common in\n",
        "        summer rather than in winter. Australia's annual average temperatures are projected to increase 0.4–2.0 °C above 1990 levels by the year 2030, and 1–6 °C by 2070. Average\n",
        "        precipitation in the southwest and southeast Australia is projected to decline during this time, while regions such as the northwest may experience increases in rainfall.\n",
        "        Climate change is affecting the continent's environment and ecosystems. Australia is vulnerable to the effects of global warming projected for the next 50 to 100 years\n",
        "        because of its extensive arid and semi-arid areas, and already warm climate, high annual rainfall variability. The continent's high fire risk increases this susceptibility\n",
        "        to changes in temperature and climate. Meanwhile, Australia's coastlines will experience erosion and inundation from an estimated 8–88 cm increase in global sea level.\n",
        "        Australia's unique ecosystems such as the Great Barrier Reef and many animal species are also at risk.\n",
        "        Climate change also has diverse implications for Australia's economy, agriculture and public health.Projected impacts include more severe floods, droughts, and cyclones.\n",
        "        Furthermore, Australia's population is highly concentrated in coastal areas at risk from rising sea levels, and existing pressures on water supply will be exacerbated.\n",
        "        The exposure of Indigenous Australians to climate change impacts is exacerbated by existing socio-economic disadvantages which are linked to colonial and post-colonial\n",
        "        marginalisation.The communities most affected by climate changes are those in the North where Aboriginal and Torres Strait Islander people make up 30% of the\n",
        "        population.Aboriginal and Torres Strait Islander communities located in the coastal north are the most disadvantaged due to social and economic issues and their reliance on\n",
        "        traditional land for food, culture, and health. This has raised the question for many community members in these areas, \"Should we stay or move away?\"\n",
        "        Australia is also a contributor to climate change, with its greenhouse gas emissions per capita above the world average. The country is highly reliant on coal and other\n",
        "        fossil fuels, although renewable energy coverage is increasing.National mitigation efforts include a commitment to achieving net zero emissions by 2050 under the\n",
        "        Paris Agreement, although Australia has repeatedly ranked poorly in the Climate Change Performance Index and other international rankings for its climate targets and\n",
        "        implementation. Adaptation can be performed at national and local levels and was identified as a priority for Australia in the 2007 Garnaut Review.\n",
        "        Climate change has been a divisive or politicised issue in Australian politics since the 2000s, contributing to successive governments implementing and repealing mitigation\n",
        "        policies such as carbon pricing. Some Australian media outlets have promoted climate misinformation. The issue has sparked protests in support of climate change policies,\n",
        "         including some of the largest demonstrations in Australia's history.'''"
      ],
      "metadata": {
        "id": "NbcVmiJ79t3e"
      },
      "execution_count": 21,
      "outputs": []
    },
    {
      "cell_type": "code",
      "source": [
        "# Calling the function and printing the summary\n",
        "summary = sumy_method(text)\n",
        "print(summary)"
      ],
      "metadata": {
        "colab": {
          "base_uri": "https://localhost:8080/"
        },
        "id": "ub0n4nAK90C0",
        "outputId": "9ee92cf8-e3d2-46ae-d55c-f6b186c013fd"
      },
      "execution_count": 22,
      "outputs": [
        {
          "output_type": "stream",
          "name": "stdout",
          "text": [
            "Australia's annual average temperatures are projected to increase 0.4–2.0 °C above 1990 levels by the year 2030, and 1–6 °C by 2070. Furthermore, Australia's population is highly concentrated in coastal areas at risk from rising sea levels, and existing pressures on water supply will be exacerbated.\n"
          ]
        }
      ]
    },
    {
      "cell_type": "markdown",
      "source": [
        "LUHN TEXT SUMMARIZATION"
      ],
      "metadata": {
        "id": "ZwR7nsOe93up"
      }
    },
    {
      "cell_type": "code",
      "source": [
        "#Importing the libraries\n",
        "from sumy.parsers.plaintext import PlaintextParser\n",
        "from sumy.nlp.tokenizers import Tokenizer\n",
        "from sumy.summarizers.luhn import LuhnSummarizer\n",
        "import nltk"
      ],
      "metadata": {
        "id": "1jlJo_9q963F"
      },
      "execution_count": 23,
      "outputs": []
    },
    {
      "cell_type": "code",
      "source": [
        "# Sentence tokenizing\n",
        "nltk.download('punkt')"
      ],
      "metadata": {
        "colab": {
          "base_uri": "https://localhost:8080/"
        },
        "id": "6qp17K-Z-HGT",
        "outputId": "f984f4c7-2360-417e-dcc7-9c70dec3bbff"
      },
      "execution_count": 24,
      "outputs": [
        {
          "output_type": "stream",
          "name": "stderr",
          "text": [
            "[nltk_data] Downloading package punkt to /root/nltk_data...\n",
            "[nltk_data]   Package punkt is already up-to-date!\n"
          ]
        },
        {
          "output_type": "execute_result",
          "data": {
            "text/plain": [
              "True"
            ]
          },
          "metadata": {},
          "execution_count": 24
        }
      ]
    },
    {
      "cell_type": "code",
      "source": [
        "def luhn_method(text):\n",
        "    # Parsing the input text\n",
        "    parser = PlaintextParser.from_string(text, Tokenizer(\"english\"))\n",
        "\n",
        "    # Initializing the Luhn summarizer\n",
        "    summarizer_luhn = LuhnSummarizer()\n",
        "\n",
        "    # Summarizing the document into 2 sentences\n",
        "    summary_1 = summarizer_luhn(parser.document, 2)\n",
        "\n",
        "    # Collecting the summary sentences into a list\n",
        "    dp = []\n",
        "    for sentence in summary_1:\n",
        "        dp.append(str(sentence))\n",
        "\n",
        "    # Joining the summarized sentences into a single string\n",
        "    final_sentence = ' '.join(dp)\n",
        "\n",
        "    return final_sentence"
      ],
      "metadata": {
        "id": "0PO0piDA-HC5"
      },
      "execution_count": 25,
      "outputs": []
    },
    {
      "cell_type": "code",
      "source": [
        "text = '''Climate change has been a critical issue in Australia since the beginning of the 21st century. Australia is becoming hotter and more prone to extreme heat,\n",
        "        bushfires, droughts, floods, and longer fire seasons because of climate change. Climate issues include wildfires, heatwaves, cyclones, rising sea levels,\n",
        "        and erosion.\n",
        "        Since the beginning of the 20th century, Australia has experienced an increase of over 1.4 °C in average annual temperatures, with warming occurring at twice\n",
        "        the rate over the past 50 years compared with the previous 50 years. Recent climate events such as extremely high temperatures and widespread drought have focused\n",
        "        government and public attention on the effects of climate change in Australia. Rainfall in southwestern Australia has decreased by 10–20% since the 1970s, while\n",
        "        southeastern Australia has also experienced a moderate decline since the 1990s. Rainfall is expected to become heavier and more infrequent, as well as more common in\n",
        "        summer rather than in winter. Australia's annual average temperatures are projected to increase 0.4–2.0 °C above 1990 levels by the year 2030, and 1–6 °C by 2070. Average\n",
        "        precipitation in the southwest and southeast Australia is projected to decline during this time, while regions such as the northwest may experience increases in rainfall.\n",
        "        Climate change is affecting the continent's environment and ecosystems. Australia is vulnerable to the effects of global warming projected for the next 50 to 100 years\n",
        "        because of its extensive arid and semi-arid areas, and already warm climate, high annual rainfall variability. The continent's high fire risk increases this susceptibility\n",
        "        to changes in temperature and climate. Meanwhile, Australia's coastlines will experience erosion and inundation from an estimated 8–88 cm increase in global sea level.\n",
        "        Australia's unique ecosystems such as the Great Barrier Reef and many animal species are also at risk.\n",
        "        Climate change also has diverse implications for Australia's economy, agriculture and public health.Projected impacts include more severe floods, droughts, and cyclones.\n",
        "        Furthermore, Australia's population is highly concentrated in coastal areas at risk from rising sea levels, and existing pressures on water supply will be exacerbated.\n",
        "        The exposure of Indigenous Australians to climate change impacts is exacerbated by existing socio-economic disadvantages which are linked to colonial and post-colonial\n",
        "        marginalisation.The communities most affected by climate changes are those in the North where Aboriginal and Torres Strait Islander people make up 30% of the\n",
        "        population.Aboriginal and Torres Strait Islander communities located in the coastal north are the most disadvantaged due to social and economic issues and their reliance on\n",
        "        traditional land for food, culture, and health. This has raised the question for many community members in these areas, \"Should we stay or move away?\"\n",
        "        Australia is also a contributor to climate change, with its greenhouse gas emissions per capita above the world average. The country is highly reliant on coal and other\n",
        "        fossil fuels, although renewable energy coverage is increasing.National mitigation efforts include a commitment to achieving net zero emissions by 2050 under the\n",
        "        Paris Agreement, although Australia has repeatedly ranked poorly in the Climate Change Performance Index and other international rankings for its climate targets and\n",
        "        implementation. Adaptation can be performed at national and local levels and was identified as a priority for Australia in the 2007 Garnaut Review.\n",
        "        Climate change has been a divisive or politicised issue in Australian politics since the 2000s, contributing to successive governments implementing and repealing mitigation\n",
        "        policies such as carbon pricing. Some Australian media outlets have promoted climate misinformation. The issue has sparked protests in support of climate change policies,\n",
        "         including some of the largest demonstrations in Australia's history.'''"
      ],
      "metadata": {
        "id": "Cw0vUkYl-HBG"
      },
      "execution_count": 26,
      "outputs": []
    },
    {
      "cell_type": "code",
      "source": [
        "# Calling the function and printing the summary\n",
        "summary = luhn_method(text)\n",
        "print(summary)"
      ],
      "metadata": {
        "id": "OgPJLL1r-YsL",
        "colab": {
          "base_uri": "https://localhost:8080/"
        },
        "outputId": "10cd3b38-c0db-4180-9bed-24f3baf7a9bd"
      },
      "execution_count": 27,
      "outputs": [
        {
          "output_type": "stream",
          "name": "stdout",
          "text": [
            "Since the beginning of the 20th century, Australia has experienced an increase of over 1.4 °C in average annual temperatures, with warming occurring at twice the rate over the past 50 years compared with the previous 50 years. The exposure of Indigenous Australians to climate change impacts is exacerbated by existing socio-economic disadvantages which are linked to colonial and post-colonial marginalisation.The communities most affected by climate changes are those in the North where Aboriginal and Torres Strait Islander people make up 30% of the population.Aboriginal and Torres Strait Islander communities located in the coastal north are the most disadvantaged due to social and economic issues and their reliance on traditional land for food, culture, and health.\n"
          ]
        }
      ]
    },
    {
      "cell_type": "markdown",
      "source": [
        "ENCAPSULATED CODE"
      ],
      "metadata": {
        "id": "rL35lloBIefJ"
      }
    },
    {
      "cell_type": "code",
      "source": [
        "#Importing the libraries\n",
        "from sumy.parsers.plaintext import PlaintextParser\n",
        "from sumy.nlp.tokenizers import Tokenizer\n",
        "from sumy.summarizers.text_rank import TextRankSummarizer\n",
        "from sumy.summarizers.lex_rank import LexRankSummarizer\n",
        "from sumy.summarizers.luhn import LuhnSummarizer\n",
        "import nltk\n",
        "from collections import defaultdict\n",
        "from nltk.corpus import stopwords\n",
        "from nltk.tokenize import word_tokenize, sent_tokenize"
      ],
      "metadata": {
        "id": "AG-fw381Ig-p"
      },
      "execution_count": 28,
      "outputs": []
    },
    {
      "cell_type": "code",
      "source": [
        "# Downloading the necessary NLTK resources\n",
        "nltk.download('punkt')\n",
        "nltk.download('stopwords')"
      ],
      "metadata": {
        "colab": {
          "base_uri": "https://localhost:8080/"
        },
        "id": "6ARFDlWPIoJT",
        "outputId": "95beab0d-e20d-4d53-81ec-3f80fc7baa02"
      },
      "execution_count": 29,
      "outputs": [
        {
          "output_type": "stream",
          "name": "stderr",
          "text": [
            "[nltk_data] Downloading package punkt to /root/nltk_data...\n",
            "[nltk_data]   Package punkt is already up-to-date!\n",
            "[nltk_data] Downloading package stopwords to /root/nltk_data...\n",
            "[nltk_data]   Package stopwords is already up-to-date!\n"
          ]
        },
        {
          "output_type": "execute_result",
          "data": {
            "text/plain": [
              "True"
            ]
          },
          "metadata": {},
          "execution_count": 29
        }
      ]
    },
    {
      "cell_type": "code",
      "source": [
        "# Algorithm 1: Frequency-based Summarization\n",
        "def frequency_based_summarization(text):\n",
        "    stop_words = set(stopwords.words(\"english\"))\n",
        "    words = word_tokenize(text)\n",
        "\n",
        "    freq_table = defaultdict(int)\n",
        "    for word in words:\n",
        "        word = word.lower()\n",
        "        if word not in stop_words and word.isalpha():\n",
        "            freq_table[word] += 1\n",
        "\n",
        "    sentences = sent_tokenize(text)\n",
        "    sentence_value = defaultdict(int)\n",
        "\n",
        "    for sentence in sentences:\n",
        "        for word, freq in freq_table.items():\n",
        "            if word in sentence.lower():\n",
        "                sentence_value[sentence] += freq\n",
        "\n",
        "    avg_score = sum(sentence_value.values()) / len(sentence_value)\n",
        "    summary = ' '.join([sentence for sentence in sentences if sentence_value[sentence] >= avg_score])\n",
        "    return summary"
      ],
      "metadata": {
        "id": "-CwkFW2eIuDX"
      },
      "execution_count": 30,
      "outputs": []
    },
    {
      "cell_type": "code",
      "source": [
        "# Algorithm 2: TextRank Summarization\n",
        "def textrank_summarization(text, sentence_count):\n",
        "    parser = PlaintextParser.from_string(text, Tokenizer(\"english\"))\n",
        "    summarizer = TextRankSummarizer()\n",
        "    summary = summarizer(parser.document, sentence_count)\n",
        "    result = ' '.join([str(sentence) for sentence in summary])\n",
        "    return result"
      ],
      "metadata": {
        "id": "eaNjmZGrIxA_"
      },
      "execution_count": 31,
      "outputs": []
    },
    {
      "cell_type": "code",
      "source": [
        "# Algorithm 3: LexRank Summarization\n",
        "def lexrank_summarization(text, sentence_count):\n",
        "    parser = PlaintextParser.from_string(text, Tokenizer(\"english\"))\n",
        "    summarizer = LexRankSummarizer()\n",
        "    summary = summarizer(parser.document, sentence_count)\n",
        "    result = ' '.join([str(sentence) for sentence in summary])\n",
        "    return result"
      ],
      "metadata": {
        "id": "4FSl3ZdZIzY7"
      },
      "execution_count": 32,
      "outputs": []
    },
    {
      "cell_type": "code",
      "source": [
        "# Algorithm 4: Luhn Summarization\n",
        "def luhn_summarization(text, sentence_count):\n",
        "    parser = PlaintextParser.from_string(text, Tokenizer(\"english\"))\n",
        "    summarizer = LuhnSummarizer()\n",
        "    summary = summarizer(parser.document, sentence_count)\n",
        "    result = ' '.join([str(sentence) for sentence in summary])\n",
        "    return result"
      ],
      "metadata": {
        "id": "18vSHoeJI0O-"
      },
      "execution_count": 33,
      "outputs": []
    },
    {
      "cell_type": "code",
      "source": [
        "# Main function to encapsulate all methods\n",
        "def summarize_text(choice, text, sentence_count=2):\n",
        "    if choice == 1:\n",
        "        return frequency_based_summarization(text)\n",
        "    elif choice == 2:\n",
        "        return textrank_summarization(text, sentence_count)\n",
        "    elif choice == 3:\n",
        "        return lexrank_summarization(text, sentence_count)\n",
        "    elif choice == 4:\n",
        "        return luhn_summarization(text, sentence_count)\n",
        "    else:\n",
        "        return \"Invalid choice! Please select a number between 1 and 4.\""
      ],
      "metadata": {
        "id": "BzbducDDI4qQ"
      },
      "execution_count": 34,
      "outputs": []
    },
    {
      "cell_type": "code",
      "source": [
        "if __name__ == \"__main__\":\n",
        "    input_text = '''Climate change has been a critical issue in Australia since the beginning of the 21st century. Australia is becoming hotter and more prone to extreme heat,\n",
        "        bushfires, droughts, floods, and longer fire seasons because of climate change. Climate issues include wildfires, heatwaves, cyclones, rising sea levels,\n",
        "        and erosion.\n",
        "        Since the beginning of the 20th century, Australia has experienced an increase of over 1.4 °C in average annual temperatures, with warming occurring at twice\n",
        "        the rate over the past 50 years compared with the previous 50 years. Recent climate events such as extremely high temperatures and widespread drought have focused\n",
        "        government and public attention on the effects of climate change in Australia. Rainfall in southwestern Australia has decreased by 10–20% since the 1970s, while\n",
        "        southeastern Australia has also experienced a moderate decline since the 1990s. Rainfall is expected to become heavier and more infrequent, as well as more common in\n",
        "        summer rather than in winter. Australia's annual average temperatures are projected to increase 0.4–2.0 °C above 1990 levels by the year 2030, and 1–6 °C by 2070. Average\n",
        "        precipitation in the southwest and southeast Australia is projected to decline during this time, while regions such as the northwest may experience increases in rainfall.\n",
        "        Climate change is affecting the continent's environment and ecosystems. Australia is vulnerable to the effects of global warming projected for the next 50 to 100 years\n",
        "        because of its extensive arid and semi-arid areas, and already warm climate, high annual rainfall variability. The continent's high fire risk increases this susceptibility\n",
        "        to changes in temperature and climate. Meanwhile, Australia's coastlines will experience erosion and inundation from an estimated 8–88 cm increase in global sea level.\n",
        "        Australia's unique ecosystems such as the Great Barrier Reef and many animal species are also at risk.\n",
        "        Climate change also has diverse implications for Australia's economy, agriculture and public health.Projected impacts include more severe floods, droughts, and cyclones.\n",
        "        Furthermore, Australia's population is highly concentrated in coastal areas at risk from rising sea levels, and existing pressures on water supply will be exacerbated.\n",
        "        The exposure of Indigenous Australians to climate change impacts is exacerbated by existing socio-economic disadvantages which are linked to colonial and post-colonial\n",
        "        marginalisation.The communities most affected by climate changes are those in the North where Aboriginal and Torres Strait Islander people make up 30% of the\n",
        "        population.Aboriginal and Torres Strait Islander communities located in the coastal north are the most disadvantaged due to social and economic issues and their reliance on\n",
        "        traditional land for food, culture, and health. This has raised the question for many community members in these areas, \"Should we stay or move away?\"\n",
        "        Australia is also a contributor to climate change, with its greenhouse gas emissions per capita above the world average. The country is highly reliant on coal and other\n",
        "        fossil fuels, although renewable energy coverage is increasing.National mitigation efforts include a commitment to achieving net zero emissions by 2050 under the\n",
        "        Paris Agreement, although Australia has repeatedly ranked poorly in the Climate Change Performance Index and other international rankings for its climate targets and\n",
        "        implementation. Adaptation can be performed at national and local levels and was identified as a priority for Australia in the 2007 Garnaut Review.\n",
        "        Climate change has been a divisive or politicised issue in Australian politics since the 2000s, contributing to successive governments implementing and repealing mitigation\n",
        "        policies such as carbon pricing. Some Australian media outlets have promoted climate misinformation. The issue has sparked protests in support of climate change policies,\n",
        "         including some of the largest demonstrations in Australia's history.'''\n",
        "\n",
        "    # Get user choice\n",
        "    print(\"Select a summarization algorithm:\")\n",
        "    print(\"1. Frequency-based Summarization\")\n",
        "    print(\"2. TextRank Summarization\")\n",
        "    print(\"3. LexRank Summarization\")\n",
        "    print(\"4. Luhn Summarization\")\n",
        "\n",
        "    choice = int(input(\"Enter the number of your choice (1-4): \"))\n",
        "    sentence_count = int(input(\"Enter the number of sentences for the summary: \"))\n",
        "\n",
        "    summary = summarize_text(choice, input_text, sentence_count)\n",
        "    print(\"\\nSummary:\\n\", summary)"
      ],
      "metadata": {
        "colab": {
          "base_uri": "https://localhost:8080/"
        },
        "id": "Zd7m9nKAI77u",
        "outputId": "83e5eb1a-0b42-42de-e500-cc7b296044a1"
      },
      "execution_count": 36,
      "outputs": [
        {
          "output_type": "stream",
          "name": "stdout",
          "text": [
            "Select a summarization algorithm:\n",
            "1. Frequency-based Summarization\n",
            "2. TextRank Summarization\n",
            "3. LexRank Summarization\n",
            "4. Luhn Summarization\n",
            "Enter the number of your choice (1-4): 2\n",
            "Enter the number of sentences for the summary: 4\n",
            "\n",
            "Summary:\n",
            " Since the beginning of the 20th century, Australia has experienced an increase of over 1.4 °C in average annual temperatures, with warming occurring at twice the rate over the past 50 years compared with the previous 50 years. Australia is vulnerable to the effects of global warming projected for the next 50 to 100 years because of its extensive arid and semi-arid areas, and already warm climate, high annual rainfall variability. The exposure of Indigenous Australians to climate change impacts is exacerbated by existing socio-economic disadvantages which are linked to colonial and post-colonial marginalisation.The communities most affected by climate changes are those in the North where Aboriginal and Torres Strait Islander people make up 30% of the population.Aboriginal and Torres Strait Islander communities located in the coastal north are the most disadvantaged due to social and economic issues and their reliance on traditional land for food, culture, and health. The country is highly reliant on coal and other fossil fuels, although renewable energy coverage is increasing.National mitigation efforts include a commitment to achieving net zero emissions by 2050 under the Paris Agreement, although Australia has repeatedly ranked poorly in the Climate Change Performance Index and other international rankings for its climate targets and implementation.\n"
          ]
        }
      ]
    }
  ]
}