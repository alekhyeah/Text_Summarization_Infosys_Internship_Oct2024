{
 "cells": [
  {
   "cell_type": "code",
   "execution_count": 5,
   "id": "0083740d-9468-4cb9-9339-15545b3945f2",
   "metadata": {},
   "outputs": [
    {
     "name": "stdout",
     "output_type": "stream",
     "text": [
      "Defaulting to user installation because normal site-packages is not writeable\n",
      "Requirement already satisfied: rouge-score in ./.local/lib/python3.10/site-packages (0.1.2)\n",
      "Requirement already satisfied: six>=1.14.0 in /usr/lib/python3/dist-packages (from rouge-score) (1.16.0)\n",
      "Requirement already satisfied: nltk in ./.local/lib/python3.10/site-packages (from rouge-score) (3.9.1)\n",
      "Requirement already satisfied: absl-py in ./.local/lib/python3.10/site-packages (from rouge-score) (2.1.0)\n",
      "Requirement already satisfied: numpy in ./.local/lib/python3.10/site-packages (from rouge-score) (1.23.5)\n",
      "Requirement already satisfied: tqdm in ./.local/lib/python3.10/site-packages (from nltk->rouge-score) (4.66.5)\n",
      "Requirement already satisfied: regex>=2021.8.3 in ./.local/lib/python3.10/site-packages (from nltk->rouge-score) (2024.9.11)\n",
      "Requirement already satisfied: joblib in ./.local/lib/python3.10/site-packages (from nltk->rouge-score) (1.4.2)\n",
      "Requirement already satisfied: click in /usr/lib/python3/dist-packages (from nltk->rouge-score) (8.0.3)\n",
      "Defaulting to user installation because normal site-packages is not writeable\n",
      "Collecting rouge\n",
      "  Downloading rouge-1.0.1-py3-none-any.whl (13 kB)\n",
      "Requirement already satisfied: six in /usr/lib/python3/dist-packages (from rouge) (1.16.0)\n",
      "Installing collected packages: rouge\n",
      "Successfully installed rouge-1.0.1\n"
     ]
    }
   ],
   "source": [
    "!pip install rouge-score\n",
    "!pip install rouge"
   ]
  },
  {
   "cell_type": "code",
   "execution_count": 6,
   "id": "6ed52691-2a93-440e-a29e-7753e013b368",
   "metadata": {},
   "outputs": [
    {
     "name": "stdout",
     "output_type": "stream",
     "text": [
      "Number of words before summarizing: 79\n",
      "Number of words after summarizing: 49\n",
      "\n",
      "Summary of Text:\n",
      "\n",
      "Samsung entered the electronics industry in the late 1960s and the construction and shipbuilding industries in the mid-1970s; these areas would drive its subsequent growth. Following Lee's death in 1987, Samsung was separated into five business groups – Samsung Group, Shinsegae Group, CJ Group, Hansol Group, and JoongAng Group.\n",
      "\n",
      "ROUGE Scores:\n",
      "[{'rouge-1': {'r': 1.0, 'p': 1.0, 'f': 0.999999995}, 'rouge-2': {'r': 1.0, 'p': 1.0, 'f': 0.999999995}, 'rouge-l': {'r': 1.0, 'p': 1.0, 'f': 0.999999995}}]\n"
     ]
    }
   ],
   "source": [
    "# Import required libraries\n",
    "from sumy.parsers.plaintext import PlaintextParser\n",
    "from sumy.nlp.tokenizers import Tokenizer\n",
    "from sumy.summarizers.text_rank import TextRankSummarizer\n",
    "from rouge import Rouge\n",
    "\n",
    "def summarize_text(text, num_sentences):\n",
    "    \"\"\"\n",
    "    Summarize the given text using TextRank summarization.\n",
    "\n",
    "    Args:\n",
    "        text (str): The text to be summarized.\n",
    "        num_sentences (int): The number of sentences to include in the summary.\n",
    "\n",
    "    Returns:\n",
    "        str: The summarized text.\n",
    "    \"\"\"\n",
    "    # Create a plaintext parser with English tokenization\n",
    "    parser = PlaintextParser.from_string(text, Tokenizer(\"english\"))\n",
    "\n",
    "    # Create a TextRank summarizer\n",
    "    summarizer = TextRankSummarizer()\n",
    "\n",
    "    # Summarize the text, keeping only the top 'num_sentences' sentences\n",
    "    summary = summarizer(parser.document, num_sentences)\n",
    "    \n",
    "    # Convert the summary to a string\n",
    "    text_summary = \" \".join([str(sentence) for sentence in summary])\n",
    "\n",
    "    return text_summary\n",
    "\n",
    "def calculate_rouge_score(summary):\n",
    "    \"\"\"\n",
    "    Calculate ROUGE score based on the generated summary itself.\n",
    "\n",
    "    Args:\n",
    "        summary (str): The generated summary.\n",
    "\n",
    "    Returns:\n",
    "        dict: The ROUGE scores.\n",
    "    \"\"\"\n",
    "    rouge = Rouge()\n",
    "    # Since there is no reference, we will use the summary as both reference and prediction\n",
    "    scores = rouge.get_scores(summary, summary)\n",
    "    return scores\n",
    "\n",
    "# Example usage\n",
    "text = '''\n",
    "Samsung was founded by Lee Byung-chul in 1938 as a trading company. Over the next three decades, \n",
    "the group diversified into areas including food processing, textiles, insurance, securities, and retail. \n",
    "Samsung entered the electronics industry in the late 1960s and the construction and shipbuilding industries in the mid-1970s; \n",
    "these areas would drive its subsequent growth. Following Lee's death in 1987, \n",
    "Samsung was separated into five business groups – Samsung Group, Shinsegae Group, CJ Group, Hansol Group, and JoongAng Group.\n",
    "'''\n",
    "\n",
    "# Count the number of words before summarizing\n",
    "num_words_before = len(text.split())\n",
    "print(f'Number of words before summarizing: {num_words_before}')\n",
    "\n",
    "# Generate the summary\n",
    "summary = summarize_text(text, num_sentences=2)\n",
    "\n",
    "# Count the number of words after summarizing\n",
    "num_words_after = len(summary.split())\n",
    "print(f'Number of words after summarizing: {num_words_after}')\n",
    "\n",
    "# Print the summary\n",
    "print(\"\\nSummary of Text:\\n\")\n",
    "print(summary)\n",
    "\n",
    "# Calculate and print ROUGE score\n",
    "rouge_scores = calculate_rouge_score(summary)\n",
    "print(\"\\nROUGE Scores:\")\n",
    "print(rouge_scores)"
   ]
  }
 ],
 "metadata": {
  "kernelspec": {
   "display_name": "Python 3 (ipykernel)",
   "language": "python",
   "name": "python3"
  },
  "language_info": {
   "codemirror_mode": {
    "name": "ipython",
    "version": 3
   },
   "file_extension": ".py",
   "mimetype": "text/x-python",
   "name": "python",
   "nbconvert_exporter": "python",
   "pygments_lexer": "ipython3",
   "version": "3.10.12"
  }
 },
 "nbformat": 4,
 "nbformat_minor": 5
}
