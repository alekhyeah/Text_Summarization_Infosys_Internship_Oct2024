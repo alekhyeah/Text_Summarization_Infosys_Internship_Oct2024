{
  "nbformat": 4,
  "nbformat_minor": 0,
  "metadata": {
    "colab": {
      "provenance": []
    },
    "kernelspec": {
      "name": "python3",
      "display_name": "Python 3"
    },
    "language_info": {
      "name": "python"
    }
  },
  "cells": [
    {
      "cell_type": "code",
      "execution_count": 3,
      "metadata": {
        "id": "mw0qhEvjH1Am"
      },
      "outputs": [],
      "source": [
        "from google.colab import userdata\n",
        "import os\n",
        "os.environ[\"GOOGLE_API_KEY\"] = 'Api key'\n",
        "# os.environ[\"HUGGINGFACEHUB_API_TOKEN\"] = userdata.get('HUGGINGFACEHUB_API_TOKEN')"
      ]
    },
    {
      "cell_type": "code",
      "source": [
        "%pip install --upgrade --quiet tiktoken langchain langgraph beautifulsoup4 langchain langchain-google-genai langchain-huggingface"
      ],
      "metadata": {
        "id": "Z8PAxdFuKC5W"
      },
      "execution_count": null,
      "outputs": []
    },
    {
      "cell_type": "code",
      "source": [
        "from langchain_google_genai import ChatGoogleGenerativeAI\n",
        "# from langchain_huggingface import ChatHuggingFace, HuggingFaceEndpoint\n",
        "\n",
        "def load_llm(model=\"gemini-1.5-pro\"):\n",
        "\n",
        "  if model == \"gemini-1.5-pro\":\n",
        "    llm = ChatGoogleGenerativeAI(\n",
        "        model=\"gemini-1.5-pro\",\n",
        "        temperature=0,\n",
        "        max_tokens=None,\n",
        "        timeout=None,\n",
        "        max_retries=2)\n",
        "    return llm\n",
        "  elif model == \"gemini-1.5-flash\":\n",
        "    llm = ChatGoogleGenerativeAI(\n",
        "        model=\"gemini-1.5-flash\",\n",
        "        temperature=0,\n",
        "        max_tokens=None,\n",
        "        timeout=None,\n",
        "        max_retries=2)\n",
        "    return llm\n",
        "  else:\n",
        "    raise ValueError(\"Invalid model name\")"
      ],
      "metadata": {
        "id": "wRyN968FKGgD"
      },
      "execution_count": 5,
      "outputs": []
    },
    {
      "cell_type": "code",
      "source": [
        "# from langchain.chains.combine_documents import create_stuff_documents_chain\n",
        "# from langchain.chains.llm import LLMChain\n",
        "from langchain_core.prompts import ChatPromptTemplate\n",
        "\n",
        "\n",
        "def get_prompt_template():\n",
        "  # Define prompt\n",
        "  prompt = ChatPromptTemplate.from_messages(\n",
        "      [\n",
        "          (\n",
        "              \"system\",\n",
        "              \"Write a concise summary of the following in {num_words} words:\\\\n\\\\n\",\n",
        "          ),\n",
        "          (\"human\", \"{context}\")\n",
        "      ]\n",
        "  )\n",
        "\n",
        "  return prompt\n",
        "\n",
        "\n",
        "def summarize_text(text, num_words=50, model=\"gemini-1.5-pro\"):\n",
        "\n",
        "  # Load LLM\n",
        "  llm = load_llm(model)\n",
        "\n",
        "  # Get Prompt Template\n",
        "  prompt = get_prompt_template()\n",
        "\n",
        "  # Instantiate chain\n",
        "  chain = prompt | llm\n",
        "\n",
        "  # Invoke chain\n",
        "  result = chain.invoke({\n",
        "        \"context\": text,\n",
        "        \"num_words\": num_words\n",
        "      })\n",
        "\n",
        "  # Return result\n",
        "  return result.content"
      ],
      "metadata": {
        "id": "nOKcwAc3KTyI"
      },
      "execution_count": 6,
      "outputs": []
    },
    {
      "cell_type": "code",
      "source": [
        "text = '''\n",
        "Text summarization involves creating a summary of a source text using natural language processing.\n",
        "This is useful for condensing long-form text, audio, or video into a shorter, more digestible form that still conveys the main points.\n",
        "Examples include news articles, scientific papers, podcasts, speeches, lectures, and meeting recordings.\n",
        "\n",
        "There are two main types of summarization:\n",
        "\n",
        "Extractive summarization: This type identifies and extracts key phrases or sentences (i.e., excerpts) from the source text and combines them into a summary.\n",
        "It leaves the original text unchanged and only selects the important parts.\n",
        "\n",
        "Abstractive summarization: This type involves understanding the main ideas in the source text and creating a new summary that expresses those ideas in a fresh and condensed way (i.e., paraphrasing).\n",
        " It's more complex because it requires a deeper understanding of the source text and the ability to convey the same information in fewer words.\n",
        "'''\n",
        "\n",
        "# Specifcy the text and number of words\n",
        "summary = summarize_text(text, num_words = 50, model = \"gemini-1.5-flash\")\n",
        "\n",
        "\n",
        "print(f\"Original Text: {text}\")\n",
        "print(f\"\\n Text Length: {len(text)}\")\n",
        "print(\"=\"*100)\n",
        "print(f\"\\nSummary: {summary}\")\n",
        "print(f\"\\nSummary Length: {len(summary)}\")"
      ],
      "metadata": {
        "colab": {
          "base_uri": "https://localhost:8080/"
        },
        "id": "PwoouRlaKX9E",
        "outputId": "63274022-3dae-484d-9ece-a29e66bcc9cf"
      },
      "execution_count": 7,
      "outputs": [
        {
          "output_type": "stream",
          "name": "stdout",
          "text": [
            "Original Text: \n",
            "Text summarization involves creating a summary of a source text using natural language processing.\n",
            "This is useful for condensing long-form text, audio, or video into a shorter, more digestible form that still conveys the main points.\n",
            "Examples include news articles, scientific papers, podcasts, speeches, lectures, and meeting recordings.\n",
            "\n",
            "There are two main types of summarization:\n",
            "\n",
            "Extractive summarization: This type identifies and extracts key phrases or sentences (i.e., excerpts) from the source text and combines them into a summary.\n",
            "It leaves the original text unchanged and only selects the important parts.\n",
            "\n",
            "Abstractive summarization: This type involves understanding the main ideas in the source text and creating a new summary that expresses those ideas in a fresh and condensed way (i.e., paraphrasing).\n",
            " It's more complex because it requires a deeper understanding of the source text and the ability to convey the same information in fewer words.\n",
            "\n",
            "\n",
            " Text Length: 962\n",
            "====================================================================================================\n",
            "\n",
            "Summary: Text summarization condenses long content into shorter summaries using NLP. Extractive summarization extracts key phrases or sentences, while abstractive summarization paraphrases the main ideas, offering a more concise and original summary. Both methods are useful for condensing various types of content, from news articles to lectures. \n",
            "\n",
            "\n",
            "Summary Length: 340\n"
          ]
        }
      ]
    }
  ]
}
