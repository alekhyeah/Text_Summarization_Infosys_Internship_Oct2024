{
 "cells": [
  {
   "cell_type": "code",
   "execution_count": 2,
   "id": "c877c30e-4473-407a-a800-eccbf298977c",
   "metadata": {},
   "outputs": [
    {
     "name": "stdout",
     "output_type": "stream",
     "text": [
      "Original Text:\n",
      "\n",
      "Samsung was founded by Lee Byung-chul in 1938 as a trading company. Over the next three decades, the group diversified into areas including food processing, textiles, insurance, securities, and retail. Samsung entered the electronics industry in the late 1960s and the construction and shipbuilding industries in the mid-1970s; these areas would drive its subsequent growth. Following Lee's death in 1987, Samsung was separated into five business groups – Samsung Group, Shinsegae Group, CJ Group, Hansol Group, and JoongAng Group.\n",
      "\n",
      "\n",
      "Summary of Text:\n",
      "\n",
      "Generated Summary:\n",
      "Following Lee's death in 1987, Samsung was separated into five business groups – Samsung Group, Shinsegae Group, CJ Group, Hansol Group, and JoongAng Group.\n",
      "\n",
      "ROUGE-1: 0.5091\n",
      "ROUGE-2: 0.3396\n",
      "ROUGE-L: 0.4000\n"
     ]
    },
    {
     "name": "stderr",
     "output_type": "stream",
     "text": [
      "[nltk_data] Downloading package punkt to /home/sameer/nltk_data...\n",
      "[nltk_data]   Package punkt is already up-to-date!\n",
      "[nltk_data] Downloading package stopwords to /home/sameer/nltk_data...\n",
      "[nltk_data]   Package stopwords is already up-to-date!\n",
      "[nltk_data] Downloading package wordnet to /home/sameer/nltk_data...\n",
      "[nltk_data]   Package wordnet is already up-to-date!\n"
     ]
    },
    {
     "data": {
      "text/plain": [
       "{'rouge1': Score(precision=0.5833333333333334, recall=0.45161290322580644, fmeasure=0.509090909090909),\n",
       " 'rouge2': Score(precision=0.391304347826087, recall=0.3, fmeasure=0.33962264150943394),\n",
       " 'rougeL': Score(precision=0.4583333333333333, recall=0.3548387096774194, fmeasure=0.39999999999999997)}"
      ]
     },
     "execution_count": 2,
     "metadata": {},
     "output_type": "execute_result"
    }
   ],
   "source": [
    "import nltk\n",
    "from nltk.tokenize import word_tokenize, sent_tokenize\n",
    "from nltk.corpus import stopwords\n",
    "from nltk.stem import WordNetLemmatizer\n",
    "from rouge_score import rouge_scorer\n",
    "import pandas as pd\n",
    "\n",
    "# Download required resources\n",
    "nltk.download('punkt')\n",
    "nltk.download('stopwords')\n",
    "nltk.download('wordnet')  # For lemmatization\n",
    "\n",
    "def solve(text, threshold=1.2):\n",
    "    # Initialize stopwords, lemmatizer, and tokenizer\n",
    "    stopwords_set = set(stopwords.words(\"english\"))\n",
    "    lemmatizer = WordNetLemmatizer()\n",
    "    \n",
    "    # Tokenize text into words\n",
    "    words = word_tokenize(text)\n",
    "    \n",
    "    # Lemmatize words and filter out stopwords\n",
    "    lemmatized_words = [lemmatizer.lemmatize(word.lower()) for word in words if word.lower() not in stopwords_set and word.isalnum()]\n",
    "    \n",
    "    # Create a frequency table for lemmatized words\n",
    "    freq_table = {word: lemmatized_words.count(word) for word in lemmatized_words}\n",
    "    \n",
    "    # Tokenize text into sentences\n",
    "    sentences = sent_tokenize(text)\n",
    "    \n",
    "    # Create a sentence value dictionary to score sentences\n",
    "    sentence_value = {}\n",
    "    for sentence in sentences:\n",
    "        for word, freq in freq_table.items():\n",
    "            if word in sentence.lower():\n",
    "                sentence_value[sentence] = sentence_value.get(sentence, 0) + freq\n",
    "    \n",
    "    # Calculate the sum of sentence values\n",
    "    sum_values = sum(sentence_value.values())\n",
    "    \n",
    "    # Calculate the average sentence value\n",
    "    average = int(sum_values / len(sentence_value)) if len(sentence_value) > 0 else 0\n",
    "    \n",
    "    # Generate the summary based on the threshold\n",
    "    summary = ' '.join([sentence for sentence in sentences if sentence_value.get(sentence, 0) > (threshold * average)])\n",
    "    \n",
    "    return summary\n",
    "\n",
    "# Function to compute ROUGE scores\n",
    "def compute_rouge_scores(reference, summary):\n",
    "    scorer = rouge_scorer.RougeScorer(['rouge1', 'rouge2', 'rougeL'], use_stemmer=True)\n",
    "    scores = scorer.score(reference, summary)\n",
    "    return scores\n",
    "\n",
    "# Function to evaluate the model on the text with ROUGE metrics\n",
    "def evaluate_rouge(text, reference_summary, model_function, threshold=1.2):\n",
    "    generated_summary = model_function(text, threshold)\n",
    "    rouge_scores = compute_rouge_scores(reference_summary, generated_summary)\n",
    "    \n",
    "    # Display ROUGE scores\n",
    "    print(f\"Generated Summary:\\n{generated_summary}\\n\")\n",
    "    print(f\"ROUGE-1: {rouge_scores['rouge1'].fmeasure:.4f}\")\n",
    "    print(f\"ROUGE-2: {rouge_scores['rouge2'].fmeasure:.4f}\")\n",
    "    print(f\"ROUGE-L: {rouge_scores['rougeL'].fmeasure:.4f}\")\n",
    "    return rouge_scores\n",
    "\n",
    "# Example usage\n",
    "text = '''\n",
    "Samsung was founded by Lee Byung-chul in 1938 as a trading company. Over the next three decades, the group diversified into areas including food processing, textiles, insurance, securities, and retail. Samsung entered the electronics industry in the late 1960s and the construction and shipbuilding industries in the mid-1970s; these areas would drive its subsequent growth. Following Lee's death in 1987, Samsung was separated into five business groups – Samsung Group, Shinsegae Group, CJ Group, Hansol Group, and JoongAng Group.\n",
    "'''\n",
    "\n",
    "# Assume this is the reference summary provided\n",
    "reference_summary = 'Samsung was founded in 1938 as a trading company. Samsung entered electronics in the 1960s and shipbuilding in the 1970s. Following Lee\\'s death, Samsung was separated into five business groups.'\n",
    "\n",
    "# Evaluate model and print ROUGE scores\n",
    "print('Original Text:')\n",
    "print(text)\n",
    "\n",
    "print(\"\\nSummary of Text:\\n\")\n",
    "evaluate_rouge(text, reference_summary, solve, threshold=1.2)\n"
   ]
  }
 ],
 "metadata": {
  "kernelspec": {
   "display_name": "Python 3 (ipykernel)",
   "language": "python",
   "name": "python3"
  },
  "language_info": {
   "codemirror_mode": {
    "name": "ipython",
    "version": 3
   },
   "file_extension": ".py",
   "mimetype": "text/x-python",
   "name": "python",
   "nbconvert_exporter": "python",
   "pygments_lexer": "ipython3",
   "version": "3.10.12"
  }
 },
 "nbformat": 4,
 "nbformat_minor": 5
}
