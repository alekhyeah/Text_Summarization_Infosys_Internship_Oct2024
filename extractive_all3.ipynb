{
  "nbformat": 4,
  "nbformat_minor": 0,
  "metadata": {
    "colab": {
      "provenance": [],
      "authorship_tag": "ABX9TyP3ttJ48QboZQir+oHs+XEx"
    },
    "kernelspec": {
      "name": "python3",
      "display_name": "Python 3"
    },
    "language_info": {
      "name": "python"
    }
  },
  "cells": [
    {
      "cell_type": "code",
      "execution_count": 6,
      "metadata": {
        "colab": {
          "base_uri": "https://localhost:8080/"
        },
        "id": "z_KIFfGCWsYo",
        "outputId": "b094bee1-08e4-481f-9a81-3914c0c2c34b"
      },
      "outputs": [
        {
          "output_type": "stream",
          "name": "stdout",
          "text": [
            "Requirement already satisfied: sumy in /usr/local/lib/python3.10/dist-packages (0.11.0)\n",
            "Requirement already satisfied: rouge-score in /usr/local/lib/python3.10/dist-packages (0.1.2)\n",
            "Requirement already satisfied: datasets in /usr/local/lib/python3.10/dist-packages (3.0.1)\n",
            "Requirement already satisfied: docopt<0.7,>=0.6.1 in /usr/local/lib/python3.10/dist-packages (from sumy) (0.6.2)\n",
            "Requirement already satisfied: breadability>=0.1.20 in /usr/local/lib/python3.10/dist-packages (from sumy) (0.1.20)\n",
            "Requirement already satisfied: requests>=2.7.0 in /usr/local/lib/python3.10/dist-packages (from sumy) (2.32.3)\n",
            "Requirement already satisfied: pycountry>=18.2.23 in /usr/local/lib/python3.10/dist-packages (from sumy) (24.6.1)\n",
            "Requirement already satisfied: nltk>=3.0.2 in /usr/local/lib/python3.10/dist-packages (from sumy) (3.8.1)\n",
            "Requirement already satisfied: absl-py in /usr/local/lib/python3.10/dist-packages (from rouge-score) (1.4.0)\n",
            "Requirement already satisfied: numpy in /usr/local/lib/python3.10/dist-packages (from rouge-score) (1.26.4)\n",
            "Requirement already satisfied: six>=1.14.0 in /usr/local/lib/python3.10/dist-packages (from rouge-score) (1.16.0)\n",
            "Requirement already satisfied: filelock in /usr/local/lib/python3.10/dist-packages (from datasets) (3.16.1)\n",
            "Requirement already satisfied: pyarrow>=15.0.0 in /usr/local/lib/python3.10/dist-packages (from datasets) (16.1.0)\n",
            "Requirement already satisfied: dill<0.3.9,>=0.3.0 in /usr/local/lib/python3.10/dist-packages (from datasets) (0.3.8)\n",
            "Requirement already satisfied: pandas in /usr/local/lib/python3.10/dist-packages (from datasets) (2.2.2)\n",
            "Requirement already satisfied: tqdm>=4.66.3 in /usr/local/lib/python3.10/dist-packages (from datasets) (4.66.5)\n",
            "Requirement already satisfied: xxhash in /usr/local/lib/python3.10/dist-packages (from datasets) (3.5.0)\n",
            "Requirement already satisfied: multiprocess in /usr/local/lib/python3.10/dist-packages (from datasets) (0.70.16)\n",
            "Requirement already satisfied: fsspec<=2024.6.1,>=2023.1.0 in /usr/local/lib/python3.10/dist-packages (from fsspec[http]<=2024.6.1,>=2023.1.0->datasets) (2024.6.1)\n",
            "Requirement already satisfied: aiohttp in /usr/local/lib/python3.10/dist-packages (from datasets) (3.10.10)\n",
            "Requirement already satisfied: huggingface-hub>=0.22.0 in /usr/local/lib/python3.10/dist-packages (from datasets) (0.24.7)\n",
            "Requirement already satisfied: packaging in /usr/local/lib/python3.10/dist-packages (from datasets) (24.1)\n",
            "Requirement already satisfied: pyyaml>=5.1 in /usr/local/lib/python3.10/dist-packages (from datasets) (6.0.2)\n",
            "Requirement already satisfied: chardet in /usr/local/lib/python3.10/dist-packages (from breadability>=0.1.20->sumy) (5.2.0)\n",
            "Requirement already satisfied: lxml>=2.0 in /usr/local/lib/python3.10/dist-packages (from breadability>=0.1.20->sumy) (4.9.4)\n",
            "Requirement already satisfied: aiohappyeyeballs>=2.3.0 in /usr/local/lib/python3.10/dist-packages (from aiohttp->datasets) (2.4.3)\n",
            "Requirement already satisfied: aiosignal>=1.1.2 in /usr/local/lib/python3.10/dist-packages (from aiohttp->datasets) (1.3.1)\n",
            "Requirement already satisfied: attrs>=17.3.0 in /usr/local/lib/python3.10/dist-packages (from aiohttp->datasets) (24.2.0)\n",
            "Requirement already satisfied: frozenlist>=1.1.1 in /usr/local/lib/python3.10/dist-packages (from aiohttp->datasets) (1.4.1)\n",
            "Requirement already satisfied: multidict<7.0,>=4.5 in /usr/local/lib/python3.10/dist-packages (from aiohttp->datasets) (6.1.0)\n",
            "Requirement already satisfied: yarl<2.0,>=1.12.0 in /usr/local/lib/python3.10/dist-packages (from aiohttp->datasets) (1.15.2)\n",
            "Requirement already satisfied: async-timeout<5.0,>=4.0 in /usr/local/lib/python3.10/dist-packages (from aiohttp->datasets) (4.0.3)\n",
            "Requirement already satisfied: typing-extensions>=3.7.4.3 in /usr/local/lib/python3.10/dist-packages (from huggingface-hub>=0.22.0->datasets) (4.12.2)\n",
            "Requirement already satisfied: click in /usr/local/lib/python3.10/dist-packages (from nltk>=3.0.2->sumy) (8.1.7)\n",
            "Requirement already satisfied: joblib in /usr/local/lib/python3.10/dist-packages (from nltk>=3.0.2->sumy) (1.4.2)\n",
            "Requirement already satisfied: regex>=2021.8.3 in /usr/local/lib/python3.10/dist-packages (from nltk>=3.0.2->sumy) (2024.9.11)\n",
            "Requirement already satisfied: charset-normalizer<4,>=2 in /usr/local/lib/python3.10/dist-packages (from requests>=2.7.0->sumy) (3.4.0)\n",
            "Requirement already satisfied: idna<4,>=2.5 in /usr/local/lib/python3.10/dist-packages (from requests>=2.7.0->sumy) (3.10)\n",
            "Requirement already satisfied: urllib3<3,>=1.21.1 in /usr/local/lib/python3.10/dist-packages (from requests>=2.7.0->sumy) (2.2.3)\n",
            "Requirement already satisfied: certifi>=2017.4.17 in /usr/local/lib/python3.10/dist-packages (from requests>=2.7.0->sumy) (2024.8.30)\n",
            "Requirement already satisfied: python-dateutil>=2.8.2 in /usr/local/lib/python3.10/dist-packages (from pandas->datasets) (2.8.2)\n",
            "Requirement already satisfied: pytz>=2020.1 in /usr/local/lib/python3.10/dist-packages (from pandas->datasets) (2024.2)\n",
            "Requirement already satisfied: tzdata>=2022.7 in /usr/local/lib/python3.10/dist-packages (from pandas->datasets) (2024.2)\n",
            "Requirement already satisfied: propcache>=0.2.0 in /usr/local/lib/python3.10/dist-packages (from yarl<2.0,>=1.12.0->aiohttp->datasets) (0.2.0)\n"
          ]
        }
      ],
      "source": [
        "!pip install sumy rouge-score datasets"
      ]
    },
    {
      "cell_type": "code",
      "source": [
        "import torch\n",
        "from datasets import load_dataset\n",
        "from rouge_score import rouge_scorer\n",
        "from sumy.parsers.plaintext import PlaintextParser\n",
        "from sumy.nlp.tokenizers import Tokenizer\n",
        "from sumy.summarizers.text_rank import TextRankSummarizer\n",
        "from sumy.summarizers.lsa import LsaSummarizer\n",
        "from collections import Counter\n",
        "import nltk\n",
        "nltk.download('punkt')"
      ],
      "metadata": {
        "colab": {
          "base_uri": "https://localhost:8080/"
        },
        "id": "3GbgFtK_W_yZ",
        "outputId": "7989abb3-018d-45f4-a08f-e21101b9d09f"
      },
      "execution_count": 7,
      "outputs": [
        {
          "output_type": "stream",
          "name": "stderr",
          "text": [
            "[nltk_data] Downloading package punkt to /root/nltk_data...\n",
            "[nltk_data]   Package punkt is already up-to-date!\n"
          ]
        },
        {
          "output_type": "execute_result",
          "data": {
            "text/plain": [
              "True"
            ]
          },
          "metadata": {},
          "execution_count": 7
        }
      ]
    },
    {
      "cell_type": "code",
      "source": [
        "dataset = load_dataset(\"cnn_dailymail\", \"3.0.0\", split=\"test\")\n",
        "texts = dataset['article'][:5]\n",
        "references = dataset['highlights'][:5]\n"
      ],
      "metadata": {
        "id": "AIqTSWu1aH-z"
      },
      "execution_count": 9,
      "outputs": []
    },
    {
      "cell_type": "code",
      "source": [
        "def prepare_for_sumy(text):\n",
        "    parser = PlaintextParser.from_string(text, Tokenizer(\"english\"))\n",
        "    return parser"
      ],
      "metadata": {
        "id": "2bvHDa7hbSKL"
      },
      "execution_count": 11,
      "outputs": []
    },
    {
      "cell_type": "code",
      "source": [
        "def summarize_with_model(text, model_name, sentences_count=5):\n",
        "    parser = prepare_for_sumy(text)\n",
        "\n",
        "    if model_name == \"textrank\":\n",
        "        summarizer = TextRankSummarizer()\n",
        "    elif model_name == \"lsa\":\n",
        "        summarizer = LsaSummarizer()\n",
        "    elif model_name == \"frequency\":\n",
        "        summarizer = custom_frequency_summarizer(text, sentences_count)\n",
        "        return summarizer  # For custom frequency summarizer, we return directly\n",
        "    else:\n",
        "        raise ValueError(f\"Model {model_name} not supported\")\n",
        "\n",
        "    summary = summarizer(parser.document, sentences_count)\n",
        "    return \"\\n\".join([str(sentence) for sentence in summary])\n"
      ],
      "metadata": {
        "id": "9ut7uY8ObUtF"
      },
      "execution_count": 12,
      "outputs": []
    },
    {
      "cell_type": "code",
      "source": [
        "def custom_frequency_summarizer(text, sentences_count):\n",
        "    sentences = nltk.sent_tokenize(text)\n",
        "    words = nltk.word_tokenize(text.lower())\n",
        "\n",
        "    # Compute word frequencies\n",
        "    word_frequencies = Counter(words)\n",
        "    max_frequency = max(word_frequencies.values())\n",
        "\n",
        "    # Normalize word frequencies\n",
        "    word_frequencies = {word: freq / max_frequency for word, freq in word_frequencies.items()}\n",
        "\n",
        "    # Score sentences by summing the frequency of the words\n",
        "    sentence_scores = {}\n",
        "    for i, sentence in enumerate(sentences):\n",
        "        sentence_words = nltk.word_tokenize(sentence.lower())\n",
        "        sentence_score = sum(word_frequencies.get(word, 0) for word in sentence_words)\n",
        "        sentence_scores[i] = sentence_score\n",
        "\n",
        "    # Sort and select the top `sentences_count` sentences\n",
        "    sorted_sentences = sorted(sentence_scores, key=sentence_scores.get, reverse=True)\n",
        "    top_sentences = [sentences[i] for i in sorted_sentences[:sentences_count]]\n",
        "\n",
        "    return \" \".join(top_sentences)"
      ],
      "metadata": {
        "id": "CY9OSFq7bc_n"
      },
      "execution_count": 13,
      "outputs": []
    },
    {
      "cell_type": "code",
      "source": [
        "def calculate_rouge(summaries, references):\n",
        "    scorer = rouge_scorer.RougeScorer(['rouge1', 'rouge2', 'rougeL'], use_stemmer=True)\n",
        "    scores = { 'rouge1': 0, 'rouge2': 0, 'rougeL': 0 }\n",
        "\n",
        "    for summary, reference in zip(summaries, references):\n",
        "        score = scorer.score(reference, summary)\n",
        "        scores['rouge1'] += score['rouge1'].fmeasure\n",
        "        scores['rouge2'] += score['rouge2'].fmeasure\n",
        "        scores['rougeL'] += score['rougeL'].fmeasure\n",
        "\n",
        "    num_samples = len(summaries)\n",
        "    scores = { k: v / num_samples for k, v in scores.items() }\n",
        "\n",
        "    return scores"
      ],
      "metadata": {
        "id": "A8U6JJRzbumi"
      },
      "execution_count": 14,
      "outputs": []
    },
    {
      "cell_type": "code",
      "source": [
        "for model_name in [\"textrank\", \"lsa\", \"frequency\"]:\n",
        "    print(f\"Running summarization with {model_name}...\")\n",
        "\n",
        "    # Generate summaries\n",
        "    summaries = [summarize_with_model(text, model_name) for text in texts]\n",
        "    for i, summary in enumerate(summaries):\n",
        "        print(f\"\\nSummary {i+1} ({model_name}):\")\n",
        "        print(summary)\n",
        "\n",
        "    # Calculate ROUGE scores\n",
        "    scores = calculate_rouge(summaries, references)\n",
        "\n",
        "    print(f\"ROUGE Scores for {model_name}:\", scores)\n",
        "    print(\"\\n\")"
      ],
      "metadata": {
        "colab": {
          "base_uri": "https://localhost:8080/"
        },
        "id": "eJhUm4CJbvSH",
        "outputId": "a9a3df83-0908-480a-e631-ada577147040"
      },
      "execution_count": 19,
      "outputs": [
        {
          "output_type": "stream",
          "name": "stdout",
          "text": [
            "Running summarization with textrank...\n",
            "\n",
            "Summary 1 (textrank):\n",
            "(CNN)The Palestinian Authority officially became the 123rd member of the International Criminal Court on Wednesday, a step that gives the court jurisdiction over alleged crimes in Palestinian territories.\n",
            "\"As Palestine formally becomes a State Party to the Rome Statute today, the world is also a step closer to ending a long era of impunity and injustice,\" he said, according to an ICC news release.\n",
            "Judge Kuniko Ozaki, a vice president of the ICC, said acceding to the treaty was just the first step for the Palestinians.\n",
            "\"As the Rome Statute today enters into force for the State of Palestine, Palestine acquires all the rights as well as responsibilities that come with being a State Party to the Statute.\n",
            "But the ICC begs to differ with the definition of a state for its purposes and refers to the territories as \"Palestine.\"\n",
            "\n",
            "Summary 2 (textrank):\n",
            "A stray pooch in Washington State has used up at least three of her own after being hit by a car, apparently whacked on the head with a hammer in a misguided mercy killing and then buried in a field -- only to survive.\n",
            "Four days after her apparent death, the dog managed to stagger to a nearby farm, dirt-covered and emaciated, where she was found by a worker who took her to a vet for help.\n",
            "The veterinary hospital's Good Samaritan Fund committee awarded some money to help pay for the dog's treatment, but Mellado has set up a fundraising page to help meet the remaining cost of the dog's care.\n",
            "She is dedicated to making sure Theia gets the medical attention she needs, Mellado adds, and wants to \"make sure she gets placed in a family where this will never happen to her again!\"\n",
            "A cat in Tampa, Florida, found seemingly dead after he was hit by a car in January, showed up alive in a neighbor's yard five days after he was buried by his owner.\n",
            "\n",
            "Summary 3 (textrank):\n",
            "That is another way of saying that he was outside the country during the demonstrations against the Shah of Iran, which began in 1977, and during the Iranian Revolution, which drove the shah from power in 1979.\n",
            "Zarif left the country in 1977, received his undergraduate degree from San Francisco State University in 1981, his master's in international relations from the University of Denver in 1984 and his doctorate from the University of Denver in 1988.\n",
            "The first sentence of his official biography, perhaps in a nod to the powers that be in Tehran, says Zarif was \"born to a religious traditional family in Tehran in 1959.\"\n",
            "But last year, a settlement in the case, under which the foundation agreed to give a 36-story building in Manhattan along with other properties to the U.S. government, did not mention Zarif's name.\n",
            "And that amount of quality time will only increase as the two men, with help from other foreign ministers as well, try to meet a June 30 deadline for nailing down the details of the agreement they managed to outline this week in Switzerland.\n",
            "\n",
            "Summary 4 (textrank):\n",
            "(CNN)Five Americans who were monitored for three weeks at an Omaha, Nebraska, hospital after being exposed to Ebola in West Africa have been released, a Nebraska Medicine spokesman said in an email Wednesday.\n",
            "One of the five had a heart-related issue on Saturday and has been discharged but hasn't left the area, Taylor Wilson wrote.\n",
            "They all had contact with a colleague who was diagnosed with the disease and is being treated at the National Institutes of Health in Bethesda, Maryland.\n",
            "The Centers for Disease Control and Prevention in Atlanta has said the last of 17 patients who were being monitored are expected to be released by Thursday.\n",
            "More than 10,000 people have died in a West African epidemic of Ebola that dates to December 2013, according to the World Health Organization.\n",
            "\n",
            "Summary 5 (textrank):\n",
            "(CNN)A Duke student has admitted to hanging a noose made of rope from a tree near a student union, university officials said Thursday.\n",
            "The student was identified during an investigation by campus police and the office of student affairs and admitted to placing the noose on the tree early Wednesday, the university said.\n",
            "At a forum held on the steps of Duke Chapel, close to where the noose was discovered at 2 a.m., hundreds of people gathered.\n",
            "Last month a fraternity at the University of Oklahoma had its charter removed after a video surfaced showing members using the N-word and referring to lynching in a chant.\n",
            "In February, a noose was hung around the neck of a statue of a famous civil rights figure at the University of Mississippi.\n",
            "ROUGE Scores for textrank: {'rouge1': 0.25831320632965554, 'rouge2': 0.08963908196687745, 'rougeL': 0.18612273181730324}\n",
            "\n",
            "\n",
            "Running summarization with lsa...\n",
            "\n",
            "Summary 1 (lsa):\n",
            "But Palestinian Foreign Minister Riad al-Malki, speaking at Wednesday's ceremony, said it was a move toward greater justice.\n",
            "\"Indeed, today brings us closer to our shared goals of justice and peace.\"\n",
            "It urged the warring sides to resolve their differences through direct negotiations.\n",
            "Prosecutor Fatou Bensouda said her office would \"conduct its analysis in full independence and impartiality.\"\n",
            "The war between Israel and Hamas militants in Gaza last summer left more than 2,000 people dead.\n",
            "\n",
            "Summary 2 (lsa):\n",
            "That's according to Washington State University, where the dog -- a friendly white-and-black bully breed mix now named Theia -- has been receiving care at the Veterinary Teaching Hospital.\n",
            "She was taken in by Moses Lake, Washington, resident Sara Mellado.\n",
            "Theia is only one year old but the dog's brush with death did not leave her unscathed.\n",
            "I agreed to foster her until she finally found a loving home.\"\n",
            "Any additional funds raised will be \"paid forward\" to help other animals.\n",
            "\n",
            "Summary 3 (lsa):\n",
            "\"Long live Zarif,\" crowds chanted as his car rolled slowly down the packed street.\n",
            "You may well have read that he is \"polished\" and, unusually for one burdened with such weighty issues, \"jovial.\"\n",
            "An Internet search for \"Mohammad Javad Zarif\" and \"jovial\" yields thousands of results.\n",
            "In September 2013, Zarif tweeted \"Happy Rosh Hashanah,\" referring to the Jewish New Year.\n",
            "Later on the same page, however, his date of birth is listed as January 8, 1960.\n",
            "\n",
            "Summary 4 (lsa):\n",
            "(CNN)Five Americans who were monitored for three weeks at an Omaha, Nebraska, hospital after being exposed to Ebola in West Africa have been released, a Nebraska Medicine spokesman said in an email Wednesday.\n",
            "They are clinicians for Partners in Health, a Boston-based aid group.\n",
            "As of Monday, that health care worker is in fair condition.\n",
            "Almost all the deaths have been in Guinea, Liberia and Sierra Leone.\n",
            "Ebola is spread by direct contact with the bodily fluids of an infected person.\n",
            "\n",
            "Summary 5 (lsa):\n",
            "Officials are still trying to determine if other people were involved.\n",
            "Students and faculty members marched Wednesday afternoon chanting \"We are not afraid.\n",
            "We stand together,\"  after pictures of the noose were passed around on social media.\n",
            "The incident is one of several recent racist events to affect college students.\n",
            "Duke University is a private college with about 15,000 students in Durham, North Carolina.\n",
            "ROUGE Scores for lsa: {'rouge1': 0.27131715159752545, 'rouge2': 0.04778447527348559, 'rougeL': 0.1523059414554742}\n",
            "\n",
            "\n",
            "Running summarization with frequency...\n",
            "\n",
            "Summary 1 (frequency):\n",
            "\"As Palestine formally becomes a State Party to the Rome Statute today, the world is also a step closer to ending a long era of impunity and injustice,\" he said, according to an ICC news release. \"Governments seeking to penalize Palestine for joining the ICC should immediately end their pressure, and countries that support universal acceptance of the court's treaty should speak out to welcome its membership,\" said Balkees Jarrah, international justice counsel for the group. The Palestinians signed the ICC's founding Rome Statute in January, when they also accepted its jurisdiction over alleged crimes committed \"in the occupied Palestinian territory, including East Jerusalem, since June 13, 2014.\" \"As we have said repeatedly, we do not believe that Palestine is a state and therefore we do not believe that it is eligible to join the ICC,\" the State Department said in a statement. \"As the Rome Statute today enters into force for the State of Palestine, Palestine acquires all the rights as well as responsibilities that come with being a State Party to the Statute.\n",
            "\n",
            "Summary 2 (frequency):\n",
            "Four days after her apparent death, the dog managed to stagger to a nearby farm, dirt-covered and emaciated, where she was found by a worker who took her to a vet for help. A stray pooch in Washington State has used up at least three of her own after being hit by a car, apparently whacked on the head with a hammer in a misguided mercy killing and then buried in a field -- only to survive. The veterinary hospital's Good Samaritan Fund committee awarded some money to help pay for the dog's treatment, but Mellado has set up a fundraising page to help meet the remaining cost of the dog's care. She is dedicated to making sure Theia gets the medical attention she needs, Mellado adds, and wants to \"make sure she gets placed in a family where this will never happen to her again!\" A cat in Tampa, Florida, found seemingly dead after he was hit by a car in January, showed up alive in a neighbor's yard five days after he was buried by his owner.\n",
            "\n",
            "Summary 3 (frequency):\n",
            "That is another way of saying that he was outside the country during the demonstrations against the Shah of Iran, which began in 1977, and during the Iranian Revolution, which drove the shah from power in 1979. Zarif left the country in 1977, received his undergraduate degree from San Francisco State University in 1981, his master's in international relations from the University of Denver in 1984 and his doctorate from the University of Denver in 1988. The first sentence of his official biography, perhaps in a nod to the powers that be in Tehran, says Zarif was \"born to a religious traditional family in Tehran in 1959.\" His foreign ministry notes, perhaps defensively, that \"due to the political and security conditions of the time, he decided to continue his education in the United States.\" But last year, a settlement in the case, under which the foundation agreed to give a 36-story building in Manhattan along with other properties to the U.S. government, did not mention Zarif's name.\n",
            "\n",
            "Summary 4 (frequency):\n",
            "(CNN)Five Americans who were monitored for three weeks at an Omaha, Nebraska, hospital after being exposed to Ebola in West Africa have been released, a Nebraska Medicine spokesman said in an email Wednesday. They all had contact with a colleague who was diagnosed with the disease and is being treated at the National Institutes of Health in Bethesda, Maryland. The Centers for Disease Control and Prevention in Atlanta has said the last of 17 patients who were being monitored are expected to be released by Thursday. More than 10,000 people have died in a West African epidemic of Ebola that dates to December 2013, according to the World Health Organization. One of the five had a heart-related issue on Saturday and has been discharged but hasn't left the area, Taylor Wilson wrote.\n",
            "\n",
            "Summary 5 (frequency):\n",
            "The student was identified during an investigation by campus police and the office of student affairs and admitted to placing the noose on the tree early Wednesday, the university said. In February, a noose was hung around the neck of a statue of a famous civil rights figure at the University of Mississippi. At a forum held on the steps of Duke Chapel, close to where the noose was discovered at 2 a.m., hundreds of people gathered. \"To whomever committed this hateful and stupid act, I just want to say that if your intent was to create fear, it will have the opposite effect,\" Larry Moneta said Wednesday. Last month a fraternity at the University of Oklahoma had its charter removed after a video surfaced showing members using the N-word and referring to lynching in a chant.\n",
            "ROUGE Scores for frequency: {'rouge1': 0.2490384137725597, 'rouge2': 0.07389571155505051, 'rougeL': 0.18134450293228896}\n",
            "\n",
            "\n"
          ]
        }
      ]
    }
  ]
}